{
 "cells": [
  {
   "cell_type": "markdown",
   "id": "bba9f64d-5a6d-4020-b726-1dde2210d2c8",
   "metadata": {},
   "source": [
    "<!-- PROFILE LINK -->\n",
    "\n",
    "<h1 style = \"text-align:center; font-size: 30px\">PROGRAMACIÓN CONCURRENTE Y DISTRIBUIDA</h1>\n",
    "<a href =\"https://github.com/christianyang22\">\n",
    "<img src=\"https://avatars.githubusercontent.com/u/103989159?s=400&u=52cbb863b4a897985f0548922e6e678f9c98cc1c&v=4\" style=\"float:left;vertical-align:centre\" width=\"110\" height=\"110\" title = \"Christian Jonathan Yang Gonzalez 22133089\">\n",
    "<a href =\"https://github.com/christianyang22?tab=repositories\">\n",
    "<img src=\"https://media-exp1.licdn.com/dms/image/C4D0BAQEu_Aa76fcmPw/company-logo_200_200/0/1630998679429?e=2159024400&v=beta&t=2feC9GG7RWCWizTqsK5HzDWB1TL2DOQuAVwnMf6FFvk\" title = \"M421\" alt=\"UE\" width=\"110\" height=\"110\" style=\"float:right;vertical-align:centre\">"
   ]
  },
  {
   "cell_type": "markdown",
   "id": "139165ca-2809-478f-8725-d3079dc40852",
   "metadata": {},
   "source": [
    "# Hands on 06"
   ]
  },
  {
   "cell_type": "markdown",
   "id": "4cda5c79-2d18-4b2e-825b-4cbbc65e94c7",
   "metadata": {},
   "source": [
    "## Se solicita realizar ataques simultaneos a los siguientes sitios web:"
   ]
  },
  {
   "cell_type": "code",
   "execution_count": 1,
   "id": "dbd56ce8-9626-4797-86ea-680efc5bb27a",
   "metadata": {},
   "outputs": [],
   "source": [
    "import platform as pt"
   ]
  },
  {
   "cell_type": "code",
   "execution_count": 2,
   "id": "dc88b96b-4c82-45fa-ad30-cc07e5991bbe",
   "metadata": {},
   "outputs": [
    {
     "data": {
      "text/plain": [
       "'CPython'"
      ]
     },
     "execution_count": 2,
     "metadata": {},
     "output_type": "execute_result"
    }
   ],
   "source": [
    "pt.python_implementation()"
   ]
  },
  {
   "cell_type": "code",
   "execution_count": 3,
   "id": "fec1c58e-ebb9-4d8b-9468-861b267fafc2",
   "metadata": {},
   "outputs": [
    {
     "data": {
      "text/plain": [
       "'Windows'"
      ]
     },
     "execution_count": 3,
     "metadata": {},
     "output_type": "execute_result"
    }
   ],
   "source": [
    "pt.system()"
   ]
  },
  {
   "cell_type": "code",
   "execution_count": 4,
   "id": "d26a5159-9440-4306-95c4-36a39b54b1d0",
   "metadata": {},
   "outputs": [],
   "source": [
    "import socket as st"
   ]
  },
  {
   "cell_type": "code",
   "execution_count": null,
   "id": "b8d97d42-16c9-424c-97a3-b3f3b351fff4",
   "metadata": {},
   "outputs": [],
   "source": [
    "st."
   ]
  }
 ],
 "metadata": {
  "kernelspec": {
   "display_name": "Python 3 (ipykernel)",
   "language": "python",
   "name": "python3"
  },
  "language_info": {
   "codemirror_mode": {
    "name": "ipython",
    "version": 3
   },
   "file_extension": ".py",
   "mimetype": "text/x-python",
   "name": "python",
   "nbconvert_exporter": "python",
   "pygments_lexer": "ipython3",
   "version": "3.10.7"
  }
 },
 "nbformat": 4,
 "nbformat_minor": 5
}
