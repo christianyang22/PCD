{
 "cells": [
  {
   "cell_type": "markdown",
   "id": "e175a7f0-c38b-484c-912c-95fcf29280c4",
   "metadata": {},
   "source": [
    "<!-- PROFILE LINK -->\n",
    "\n",
    "<h1 style = \"text-align:center; font-size: 30px\">PROGRAMACIÓN CONCURRENTE Y DISTRIBUIDA</h1>\n",
    "<a href =\"https://github.com/christianyang22\">\n",
    "<img src=\"https://avatars.githubusercontent.com/u/103989159?s=400&u=52cbb863b4a897985f0548922e6e678f9c98cc1c&v=4\" style=\"float:left;vertical-align:centre\" width=\"110\" height=\"110\" title = \"Christian Jonathan Yang Gonzalez 22133089\">\n",
    "<a href =\"https://github.com/christianyang22?tab=repositories\">\n",
    "<img src=\"https://media-exp1.licdn.com/dms/image/C4D0BAQEu_Aa76fcmPw/company-logo_200_200/0/1630998679429?e=2159024400&v=beta&t=2feC9GG7RWCWizTqsK5HzDWB1TL2DOQuAVwnMf6FFvk\" title = \"M421\" alt=\"UE\" width=\"110\" height=\"110\" style=\"float:right;vertical-align:centre\">"
   ]
  },
  {
   "cell_type": "markdown",
   "id": "ad8603c4-0195-484e-9ca9-be58a51bea25",
   "metadata": {},
   "source": [
    "# Hands on 01"
   ]
  },
  {
   "cell_type": "markdown",
   "id": "e6c6e8a1-06c4-4227-8bf2-a4cd8d325df6",
   "metadata": {},
   "source": [
    "## Env. Setup, important commands."
   ]
  },
  {
   "cell_type": "code",
   "execution_count": 6,
   "id": "fe17ec28-cdd6-406c-8131-276f7780d503",
   "metadata": {},
   "outputs": [
    {
     "name": "stdout",
     "output_type": "stream",
     "text": [
      " El volumen de la unidad C es Windows\n",
      " El n£mero de serie del volumen es: A4AA-E3E2\n",
      "\n",
      " Directorio de C:\\Users\\chris\\Desktop\\Concurrencia 2023\n",
      "\n",
      "\n",
      " Directorio de C:\\Users\\chris\\Desktop\\Concurrencia 2023\n",
      "\n",
      "\n",
      " Directorio de C:\\Users\\chris\\Desktop\\Concurrencia 2023\n",
      "\n"
     ]
    },
    {
     "name": "stderr",
     "output_type": "stream",
     "text": [
      "No se encuentra el archivo\n"
     ]
    }
   ],
   "source": [
    "ls # List Files"
   ]
  },
  {
   "cell_type": "code",
   "execution_count": 7,
   "id": "448b9d2f-e470-47dd-bea4-cb843a2f7f6e",
   "metadata": {},
   "outputs": [
    {
     "data": {
      "text/plain": [
       "'C:\\\\Users\\\\chris\\\\Desktop\\\\Concurrencia 2023'"
      ]
     },
     "execution_count": 7,
     "metadata": {},
     "output_type": "execute_result"
    }
   ],
   "source": [
    "pwd # Where I am"
   ]
  },
  {
   "cell_type": "code",
   "execution_count": 8,
   "id": "471256f3-d002-4bfb-ae58-f4398679c7c5",
   "metadata": {},
   "outputs": [
    {
     "name": "stdout",
     "output_type": "stream",
     "text": [
      "On branch master\n",
      "\n",
      "No commits yet\n",
      "\n",
      "nothing to commit (create/copy files and use \"git add\" to track)\n"
     ]
    }
   ],
   "source": [
    "!git status # info status"
   ]
  },
  {
   "cell_type": "code",
   "execution_count": 9,
   "id": "cc399f93-b4c9-4bb2-ba60-6a79b0cf6f60",
   "metadata": {},
   "outputs": [],
   "source": [
    "import os"
   ]
  },
  {
   "cell_type": "code",
   "execution_count": 12,
   "id": "0b34eef6-f2a5-45fc-a188-24ac78c6d697",
   "metadata": {},
   "outputs": [
    {
     "data": {
      "text/plain": [
       "16"
      ]
     },
     "execution_count": 12,
     "metadata": {},
     "output_type": "execute_result"
    }
   ],
   "source": [
    "os.cpu_count() # Total Cores"
   ]
  },
  {
   "cell_type": "code",
   "execution_count": 13,
   "id": "67adb8c4-210e-4fd2-b7f2-8cd5a5209cd2",
   "metadata": {},
   "outputs": [
    {
     "data": {
      "text/plain": [
       "9016"
      ]
     },
     "execution_count": 13,
     "metadata": {},
     "output_type": "execute_result"
    }
   ],
   "source": [
    "os.getpid() # Get procces Id"
   ]
  },
  {
   "cell_type": "code",
   "execution_count": 12,
   "id": "1f1d88d9-0303-4062-8934-b4b6169e788f",
   "metadata": {},
   "outputs": [],
   "source": [
    "import platform as pl"
   ]
  },
  {
   "cell_type": "code",
   "execution_count": 2,
   "id": "8eac8ee7-5f94-4655-aaf6-89480e7d1d02",
   "metadata": {},
   "outputs": [
    {
     "data": {
      "text/plain": [
       "'3.10.7'"
      ]
     },
     "execution_count": 2,
     "metadata": {},
     "output_type": "execute_result"
    }
   ],
   "source": [
    "pl.python_version()"
   ]
  },
  {
   "cell_type": "code",
   "execution_count": 5,
   "id": "76009687-ca54-4946-92da-410228a9e842",
   "metadata": {},
   "outputs": [
    {
     "data": {
      "text/plain": [
       "uname_result(system='Windows', node='MSI', release='10', version='10.0.19044', machine='AMD64')"
      ]
     },
     "execution_count": 5,
     "metadata": {},
     "output_type": "execute_result"
    }
   ],
   "source": [
    "pl.uname()"
   ]
  },
  {
   "cell_type": "code",
   "execution_count": 8,
   "id": "eb39d328-2d4f-43a0-b882-01ef5750084e",
   "metadata": {},
   "outputs": [
    {
     "data": {
      "text/plain": [
       "'Intel64 Family 6 Model 165 Stepping 2, GenuineIntel'"
      ]
     },
     "execution_count": 8,
     "metadata": {},
     "output_type": "execute_result"
    }
   ],
   "source": [
    "pl.processor()"
   ]
  },
  {
   "cell_type": "code",
   "execution_count": 9,
   "id": "f09ab6c6-a9e8-48c7-a896-cb6f6ef9b3e1",
   "metadata": {},
   "outputs": [
    {
     "data": {
      "text/plain": [
       "'10'"
      ]
     },
     "execution_count": 9,
     "metadata": {},
     "output_type": "execute_result"
    }
   ],
   "source": [
    "pl.release()"
   ]
  },
  {
   "cell_type": "code",
   "execution_count": 10,
   "id": "5ffc4a29-4629-41fa-947f-842f3b30ea9b",
   "metadata": {},
   "outputs": [
    {
     "data": {
      "text/plain": [
       "'Windows'"
      ]
     },
     "execution_count": 10,
     "metadata": {},
     "output_type": "execute_result"
    }
   ],
   "source": [
    "pl.system()"
   ]
  },
  {
   "cell_type": "code",
   "execution_count": 11,
   "id": "3a4b8875-5436-4c49-8feb-2109e8b8a44a",
   "metadata": {},
   "outputs": [
    {
     "data": {
      "text/plain": [
       "'6cc6b13'"
      ]
     },
     "execution_count": 11,
     "metadata": {},
     "output_type": "execute_result"
    }
   ],
   "source": [
    "pl.python_revision()"
   ]
  },
  {
   "cell_type": "code",
   "execution_count": 15,
   "id": "2be1b246-aa2e-4e23-b264-d2ba7aecff14",
   "metadata": {},
   "outputs": [],
   "source": [
    "import uuid as uuid"
   ]
  },
  {
   "cell_type": "code",
   "execution_count": 14,
   "id": "46268f4b-53d2-4a28-af5b-ad1f184e8195",
   "metadata": {},
   "outputs": [
    {
     "data": {
      "text/plain": [
       "UUID('3b4ce595-70d6-11ed-972c-d8bbc12505f2')"
      ]
     },
     "execution_count": 14,
     "metadata": {},
     "output_type": "execute_result"
    }
   ],
   "source": [
    "uuid.uuid1()"
   ]
  },
  {
   "cell_type": "code",
   "execution_count": 16,
   "id": "fed3bda8-1b8a-48bf-9caa-6796881982ba",
   "metadata": {},
   "outputs": [
    {
     "data": {
      "text/plain": [
       "238300910913010"
      ]
     },
     "execution_count": 16,
     "metadata": {},
     "output_type": "execute_result"
    }
   ],
   "source": [
    "uuid.getnode()"
   ]
  },
  {
   "cell_type": "code",
   "execution_count": null,
   "id": "f3c0c4ee-da95-4287-8869-581a94b1ec75",
   "metadata": {},
   "outputs": [],
   "source": []
  }
 ],
 "metadata": {
  "kernelspec": {
   "display_name": "Python 3 (ipykernel)",
   "language": "python",
   "name": "python3"
  },
  "language_info": {
   "codemirror_mode": {
    "name": "ipython",
    "version": 3
   },
   "file_extension": ".py",
   "mimetype": "text/x-python",
   "name": "python",
   "nbconvert_exporter": "python",
   "pygments_lexer": "ipython3",
   "version": "3.10.7"
  }
 },
 "nbformat": 4,
 "nbformat_minor": 5
}
