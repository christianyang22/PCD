{
 "cells": [
  {
   "cell_type": "markdown",
   "id": "bba9f64d-5a6d-4020-b726-1dde2210d2c8",
   "metadata": {},
   "source": [
    "<!-- PROFILE LINK -->\n",
    "\n",
    "<h1 style = \"text-align:center; font-size: 30px\">PROGRAMACIÓN CONCURRENTE Y DISTRIBUIDA</h1>\n",
    "<a href =\"https://github.com/christianyang22\">\n",
    "<img src=\"https://avatars.githubusercontent.com/u/103989159?s=400&u=52cbb863b4a897985f0548922e6e678f9c98cc1c&v=4\" style=\"float:left;vertical-align:centre\" width=\"110\" height=\"110\" title = \"Christian Jonathan Yang Gonzalez 22133089\">\n",
    "<a href =\"https://github.com/christianyang22?tab=repositories\">\n",
    "<img src=\"https://media-exp1.licdn.com/dms/image/C4D0BAQEu_Aa76fcmPw/company-logo_200_200/0/1630998679429?e=2159024400&v=beta&t=2feC9GG7RWCWizTqsK5HzDWB1TL2DOQuAVwnMf6FFvk\" title = \"M421\" alt=\"UE\" width=\"110\" height=\"110\" style=\"float:right;vertical-align:centre\">"
   ]
  },
  {
   "cell_type": "markdown",
   "id": "139165ca-2809-478f-8725-d3079dc40852",
   "metadata": {},
   "source": [
    "# Hands on 03"
   ]
  },
  {
   "cell_type": "code",
   "execution_count": 12,
   "id": "3e61bcfd-06a9-4a22-b879-1e4bc5c5b5bd",
   "metadata": {},
   "outputs": [],
   "source": [
    "import multiprocessing as mp, threading as th"
   ]
  },
  {
   "cell_type": "markdown",
   "id": "cd577cc0-00af-4e2e-911d-86e233ae249c",
   "metadata": {
    "tags": []
   },
   "source": [
    "## Cuantos cpu tienes"
   ]
  },
  {
   "cell_type": "code",
   "execution_count": 16,
   "id": "d8f5c905-bad4-4cc6-a179-4e0ee50e3165",
   "metadata": {},
   "outputs": [
    {
     "data": {
      "text/plain": [
       "16"
      ]
     },
     "execution_count": 16,
     "metadata": {},
     "output_type": "execute_result"
    }
   ],
   "source": [
    "mp.cpu_count()"
   ]
  },
  {
   "cell_type": "markdown",
   "id": "3e7e005a-c891-45ac-a45a-2aec2cc08020",
   "metadata": {},
   "source": [
    "## Hilos de jupyter"
   ]
  },
  {
   "cell_type": "code",
   "execution_count": 15,
   "id": "ba966598-6271-45ef-9426-a439de756d88",
   "metadata": {},
   "outputs": [
    {
     "data": {
      "text/plain": [
       "6"
      ]
     },
     "execution_count": 15,
     "metadata": {},
     "output_type": "execute_result"
    }
   ],
   "source": [
    "th.active_count()"
   ]
  },
  {
   "cell_type": "markdown",
   "id": "ee69746f-fdb2-4d39-9625-032e566c5f25",
   "metadata": {},
   "source": [
    "### Te enumera lops hilos"
   ]
  },
  {
   "cell_type": "code",
   "execution_count": 19,
   "id": "c30b9683-3870-4e8e-8aab-a9f765f415c7",
   "metadata": {},
   "outputs": [
    {
     "data": {
      "text/plain": [
       "[<_MainThread(MainThread, started 28744)>,\n",
       " <Thread(IOPub, started daemon 16852)>,\n",
       " <Heartbeat(Heartbeat, started daemon 15572)>,\n",
       " <ControlThread(Control, started daemon 23944)>,\n",
       " <HistorySavingThread(IPythonHistorySavingThread, started 16868)>,\n",
       " <ParentPollerWindows(Thread-4, started daemon 17604)>]"
      ]
     },
     "execution_count": 19,
     "metadata": {},
     "output_type": "execute_result"
    }
   ],
   "source": [
    "th.enumerate()"
   ]
  },
  {
   "cell_type": "markdown",
   "id": "63d18683-7f06-4962-ab43-8cb389310cbe",
   "metadata": {},
   "source": [
    "### Hilo demonio siempre esta presente y activo, mientras un hilo normal puede o no estar activo"
   ]
  },
  {
   "cell_type": "markdown",
   "id": "94d0c615-faa5-45f9-a279-5b2bfc0ec8c7",
   "metadata": {},
   "source": [
    "#### Si tienes input/output son hilos y los hilos tambien dependen un hilo, los hilos son baratos (concurrente)"
   ]
  },
  {
   "cell_type": "markdown",
   "id": "38000172-59b6-4de4-b90f-ac9995e78df7",
   "metadata": {},
   "source": [
    "#### cores son para uso de compute (suma, restas, FIBO, etc) (Paralelo)"
   ]
  },
  {
   "cell_type": "markdown",
   "id": "80638e27-a5c8-4163-b8e0-929cc855d1d0",
   "metadata": {},
   "source": [
    "#### Los hilos son baratosm por que solo requieren un constructor, se encarga de realizar un unico proceso, no necesita instaciarse"
   ]
  },
  {
   "cell_type": "code",
   "execution_count": 28,
   "id": "1353ac49-62d1-4f28-8b58-657b0ab736ee",
   "metadata": {},
   "outputs": [
    {
     "ename": "NameError",
     "evalue": "name 'poolexecute' is not defined",
     "output_type": "error",
     "traceback": [
      "\u001b[1;31m---------------------------------------------------------------------------\u001b[0m",
      "\u001b[1;31mNameError\u001b[0m                                 Traceback (most recent call last)",
      "Cell \u001b[1;32mIn [28], line 1\u001b[0m\n\u001b[1;32m----> 1\u001b[0m \u001b[43mpoolexecute\u001b[49m()\n",
      "\u001b[1;31mNameError\u001b[0m: name 'poolexecute' is not defined"
     ]
    }
   ],
   "source": [
    "poolexecute()"
   ]
  },
  {
   "cell_type": "code",
   "execution_count": null,
   "id": "3cd69457-71fd-4671-972f-3ba589e5a476",
   "metadata": {},
   "outputs": [],
   "source": []
  }
 ],
 "metadata": {
  "kernelspec": {
   "display_name": "Python 3 (ipykernel)",
   "language": "python",
   "name": "python3"
  },
  "language_info": {
   "codemirror_mode": {
    "name": "ipython",
    "version": 3
   },
   "file_extension": ".py",
   "mimetype": "text/x-python",
   "name": "python",
   "nbconvert_exporter": "python",
   "pygments_lexer": "ipython3",
   "version": "3.10.7"
  }
 },
 "nbformat": 4,
 "nbformat_minor": 5
}
