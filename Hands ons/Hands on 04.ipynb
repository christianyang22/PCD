{
 "cells": [
  {
   "cell_type": "markdown",
   "id": "bba9f64d-5a6d-4020-b726-1dde2210d2c8",
   "metadata": {},
   "source": [
    "<!-- PROFILE LINK -->\n",
    "\n",
    "<h1 style = \"text-align:center; font-size: 30px\">PROGRAMACIÓN CONCURRENTE Y DISTRIBUIDA</h1>\n",
    "<a href =\"https://github.com/christianyang22\">\n",
    "<img src=\"https://avatars.githubusercontent.com/u/103989159?s=400&u=52cbb863b4a897985f0548922e6e678f9c98cc1c&v=4\" style=\"float:left;vertical-align:centre\" width=\"110\" height=\"110\" title = \"Christian Jonathan Yang Gonzalez 22133089\">\n",
    "<a href =\"https://github.com/christianyang22?tab=repositories\">\n",
    "<img src=\"https://media-exp1.licdn.com/dms/image/C4D0BAQEu_Aa76fcmPw/company-logo_200_200/0/1630998679429?e=2159024400&v=beta&t=2feC9GG7RWCWizTqsK5HzDWB1TL2DOQuAVwnMf6FFvk\" title = \"M421\" alt=\"UE\" width=\"110\" height=\"110\" style=\"float:right;vertical-align:centre\">"
   ]
  },
  {
   "cell_type": "markdown",
   "id": "139165ca-2809-478f-8725-d3079dc40852",
   "metadata": {},
   "source": [
    "# Hands on 04"
   ]
  },
  {
   "cell_type": "markdown",
   "id": "4cda5c79-2d18-4b2e-825b-4cbbc65e94c7",
   "metadata": {},
   "source": [
    "## Se solicita realizar ataques simultaneos a los siguientes sitios web:"
   ]
  },
  {
   "cell_type": "code",
   "execution_count": 1,
   "id": "dbd56ce8-9626-4797-86ea-680efc5bb27a",
   "metadata": {},
   "outputs": [],
   "source": [
    "import threading, os, platform, requests, json"
   ]
  },
  {
   "cell_type": "code",
   "execution_count": 2,
   "id": "dc88b96b-4c82-45fa-ad30-cc07e5991bbe",
   "metadata": {},
   "outputs": [],
   "source": [
    "numero_de_veces_hasta_matar_uem = 100000"
   ]
  },
  {
   "cell_type": "code",
   "execution_count": 3,
   "id": "74acf69c-65ec-4f20-bf74-85834eb223f2",
   "metadata": {},
   "outputs": [],
   "source": [
    "url_ = \"https://github.com/christianyang22\""
   ]
  },
  {
   "cell_type": "markdown",
   "id": "d243a2eb-9072-4760-9af4-056639850c2e",
   "metadata": {},
   "source": [
    "## Https code: "
   ]
  },
  {
   "cell_type": "markdown",
   "id": "3b6898ef-a7b3-4e01-a1a7-7f939c4ffd5b",
   "metadata": {},
   "source": [
    "<img src= \"https://www.infidigit.com/wp-content/uploads/2019/12/20191227_012601_0000.png\" width=\"500\" height=\"500\">"
   ]
  },
  {
   "cell_type": "code",
   "execution_count": 4,
   "id": "f41d3126-0bc1-47d7-bb87-eb49b73ffa6a",
   "metadata": {},
   "outputs": [],
   "source": [
    "from IPython import display as dp"
   ]
  },
  {
   "cell_type": "code",
   "execution_count": null,
   "id": "b85d861e-d10e-488b-9512-852d6a4230fa",
   "metadata": {},
   "outputs": [],
   "source": [
    "dp.Image(\"20191227_012601_0000.png\")"
   ]
  },
  {
   "cell_type": "code",
   "execution_count": 19,
   "id": "1cc45083-16d9-42de-89b5-c7786da32028",
   "metadata": {},
   "outputs": [],
   "source": [
    "def matar_uem():\n",
    "    print(requests.get(url_))\n",
    "    threading.current_thread()"
   ]
  },
  {
   "cell_type": "code",
   "execution_count": null,
   "id": "f8bf7323-61db-44fa-8817-197ef2c80073",
   "metadata": {},
   "outputs": [],
   "source": [
    "for i in range(numero_de_veces_hasta_matar_uem):\n",
    "    threading.Thread(target = matar_uem()).start()"
   ]
  },
  {
   "cell_type": "code",
   "execution_count": 17,
   "id": "f5946936-d8a6-444f-ab05-af316bd26512",
   "metadata": {},
   "outputs": [],
   "source": [
    "res_ = requests.get(\"https://rpubs.com/christian_sucuzhanay\")"
   ]
  },
  {
   "cell_type": "code",
   "execution_count": 20,
   "id": "174eddac-dd76-4fc9-a267-1b5267292ca5",
   "metadata": {},
   "outputs": [
    {
     "data": {
      "text/plain": [
       "{'Date': 'Thu, 06 Oct 2022 16:17:16 GMT', 'Content-Type': 'text/html; charset=utf-8', 'Transfer-Encoding': 'chunked', 'Connection': 'keep-alive', 'Status': '200 OK', 'Cache-Control': 'max-age=0, private, must-revalidate', 'Referrer-Policy': 'strict-origin-when-cross-origin', 'X-Permitted-Cross-Domain-Policies': 'none', 'X-XSS-Protection': '1; mode=block', 'X-Request-Id': '7b2f6128-5f66-4494-a783-853f896e96f7', 'X-Download-Options': 'noopen', 'ETag': 'W/\"3e3dcc31117916f4f2682fd7426eef03\"', 'X-Frame-Options': 'SAMEORIGIN', 'X-Runtime': '0.083616', 'X-Content-Type-Options': 'nosniff', 'Set-Cookie': '_session_id=15bd5d91386be761c5eed2d6714aa66b; path=/; HttpOnly', 'X-Powered-By': 'Phusion Passenger 6.0.2', 'Server': 'nginx/1.14.0 + Phusion Passenger 6.0.2', 'Content-Encoding': 'gzip'}"
      ]
     },
     "execution_count": 20,
     "metadata": {},
     "output_type": "execute_result"
    }
   ],
   "source": [
    "res_.headers"
   ]
  },
  {
   "cell_type": "code",
   "execution_count": 21,
   "id": "89a5450b-b66a-4457-a8e8-c252bc23bdd8",
   "metadata": {},
   "outputs": [],
   "source": [
    "def descargarArchivos():\n",
    "    requests.get(url_):\n",
    "    threading.current_thread()"
   ]
  },
  {
   "cell_type": "code",
   "execution_count": 16,
   "id": "87c710c3-d61c-4586-bc02-a6260e1f934a",
   "metadata": {},
   "outputs": [
    {
     "ename": "NameError",
     "evalue": "name 'numero_archivos_a_descargar' is not defined",
     "output_type": "error",
     "traceback": [
      "\u001b[1;31m---------------------------------------------------------------------------\u001b[0m",
      "\u001b[1;31mNameError\u001b[0m                                 Traceback (most recent call last)",
      "Cell \u001b[1;32mIn [16], line 1\u001b[0m\n\u001b[1;32m----> 1\u001b[0m \u001b[38;5;28;01mfor\u001b[39;00m i \u001b[38;5;129;01min\u001b[39;00m \u001b[38;5;28mrange\u001b[39m(\u001b[43mnumero_archivos_a_descargar\u001b[49m):\n\u001b[0;32m      2\u001b[0m     threading\u001b[38;5;241m.\u001b[39mThread(target \u001b[38;5;241m=\u001b[39m descargarArchivos())\u001b[38;5;241m.\u001b[39mstart\n",
      "\u001b[1;31mNameError\u001b[0m: name 'numero_archivos_a_descargar' is not defined"
     ]
    }
   ],
   "source": [
    "for i in range(numero_archivos_a_descargar):\n",
    "    threading.Thread(target = descargarArchivos()).start"
   ]
  },
  {
   "cell_type": "code",
   "execution_count": 5,
   "id": "605f2ea1-69d2-4daa-ad8a-d3a3a7f6e608",
   "metadata": {},
   "outputs": [],
   "source": [
    "def fib(n): \n",
    "    if n == 0:\n",
    "        return 0\n",
    "    elif n in {1,2}:\n",
    "        return 1\n",
    "    elif n > 2: \n",
    "        return(fib(n-1) + fib(n-2))"
   ]
  },
  {
   "cell_type": "code",
   "execution_count": null,
   "id": "0a4d8950-b26a-4983-9784-ef314f066256",
   "metadata": {},
   "outputs": [
    {
     "name": "stdout",
     "output_type": "stream",
     "text": [
      "0\n",
      "1\n",
      "1\n",
      "2\n",
      "3\n",
      "5\n",
      "8\n",
      "13\n",
      "21\n",
      "34\n",
      "55\n",
      "89\n",
      "144\n",
      "233\n",
      "377\n",
      "610\n",
      "987\n",
      "1597\n",
      "2584\n",
      "4181\n",
      "6765\n",
      "10946\n",
      "17711\n",
      "28657\n",
      "46368\n",
      "75025\n",
      "121393\n",
      "196418\n",
      "317811\n",
      "514229\n",
      "832040\n",
      "1346269\n",
      "2178309\n",
      "3524578\n",
      "5702887\n",
      "9227465\n",
      "14930352\n",
      "24157817\n",
      "39088169\n",
      "63245986\n",
      "102334155\n",
      "165580141\n",
      "267914296\n",
      "433494437\n",
      "701408733\n",
      "1134903170\n"
     ]
    }
   ],
   "source": [
    "for i in range(70):\n",
    "    threading.Thread(target = fib(i)).start;\n",
    "    print(fib(i))"
   ]
  },
  {
   "cell_type": "code",
   "execution_count": null,
   "id": "fec1c58e-ebb9-4d8b-9468-861b267fafc2",
   "metadata": {},
   "outputs": [],
   "source": []
  }
 ],
 "metadata": {
  "kernelspec": {
   "display_name": "Python 3 (ipykernel)",
   "language": "python",
   "name": "python3"
  },
  "language_info": {
   "codemirror_mode": {
    "name": "ipython",
    "version": 3
   },
   "file_extension": ".py",
   "mimetype": "text/x-python",
   "name": "python",
   "nbconvert_exporter": "python",
   "pygments_lexer": "ipython3",
   "version": "3.10.7"
  }
 },
 "nbformat": 4,
 "nbformat_minor": 5
}
