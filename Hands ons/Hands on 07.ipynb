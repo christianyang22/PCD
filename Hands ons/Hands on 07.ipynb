{
 "cells": [
  {
   "cell_type": "markdown",
   "id": "bba9f64d-5a6d-4020-b726-1dde2210d2c8",
   "metadata": {},
   "source": [
    "<!-- PROFILE LINK -->\n",
    "\n",
    "<h1 style = \"text-align:center; font-size: 30px\">PROGRAMACIÓN CONCURRENTE Y DISTRIBUIDA</h1>\n",
    "<a href =\"https://github.com/christianyang22\">\n",
    "<img src=\"https://avatars.githubusercontent.com/u/103989159?s=400&u=52cbb863b4a897985f0548922e6e678f9c98cc1c&v=4\" style=\"float:left;vertical-align:centre\" width=\"110\" height=\"110\" title = \"Christian Jonathan Yang Gonzalez 22133089\">\n",
    "<a href =\"https://github.com/christianyang22?tab=repositories\">\n",
    "<img src=\"https://media-exp1.licdn.com/dms/image/C4D0BAQEu_Aa76fcmPw/company-logo_200_200/0/1630998679429?e=2159024400&v=beta&t=2feC9GG7RWCWizTqsK5HzDWB1TL2DOQuAVwnMf6FFvk\" title = \"M421\" alt=\"UE\" width=\"110\" height=\"110\" style=\"float:right;vertical-align:centre\">"
   ]
  },
  {
   "cell_type": "markdown",
   "id": "139165ca-2809-478f-8725-d3079dc40852",
   "metadata": {},
   "source": [
    "# Actividad Individual AI1"
   ]
  },
  {
   "cell_type": "markdown",
   "id": "4cda5c79-2d18-4b2e-825b-4cbbc65e94c7",
   "metadata": {},
   "source": [
    "## Crear archivo txt"
   ]
  },
  {
   "cell_type": "markdown",
   "id": "156075e8-2571-4126-a59a-09109c9bc6d6",
   "metadata": {
    "tags": []
   },
   "source": [
    "### rawx\n",
    "1. r = read\n",
    "2. a = append\n",
    "3. w = write\n",
    "4. x = create"
   ]
  },
  {
   "cell_type": "code",
   "execution_count": null,
   "id": "4985caca-f23c-4a13-b07c-062170253d8f",
   "metadata": {},
   "outputs": [
    {
     "name": "stdin",
     "output_type": "stream",
     "text": [
      "Ingresa tu nick name:  Christian\n",
      "Escribe un mensaje: Hola\n",
      "Ingresa tu nick name:  Hola \n",
      "Escribe un mensaje: Christian\n"
     ]
    }
   ],
   "source": [
    "while True:\n",
    "    with open(\"22118615.txt\",\"a\") as f:\n",
    "        nick =input(\"Ingresa tu nick name: \")\n",
    "        msg = input(\"Escribe un mensaje:\")\n",
    "        f.write(nick + \": \" + msg + \"\\n\")"
   ]
  },
  {
   "cell_type": "code",
   "execution_count": 39,
   "id": "3463d393-f194-4dda-992c-9b94ce000e96",
   "metadata": {},
   "outputs": [
    {
     "name": "stdout",
     "output_type": "stream",
     "text": [
      " El volumen de la unidad C es Windows\n",
      " El n£mero de serie del volumen es: A4AA-E3E2\n",
      "\n",
      " Directorio de C:\\Users\\chris\\Desktop\\Concurrencia 2023\n",
      "\n",
      "16/11/2022  18:12               419 22118615.txt\n",
      "               1 archivos            419 bytes\n",
      "               0 dirs  421.026.258.944 bytes libres\n"
     ]
    }
   ],
   "source": [
    "ls 22118615.txt"
   ]
  },
  {
   "cell_type": "code",
   "execution_count": 35,
   "id": "f14a2364-902b-4f7a-b228-8fa597f3e434",
   "metadata": {},
   "outputs": [
    {
     "name": "stdin",
     "output_type": "stream",
     "text": [
      "Ingresa tu nick name:  TlemendoPandaCalibeño\n"
     ]
    }
   ],
   "source": [
    "nick =input(\"Ingresa tu nick name: \")"
   ]
  },
  {
   "cell_type": "code",
   "execution_count": 36,
   "id": "a20101dd-2bf3-4307-aa0f-2d1e9a277a41",
   "metadata": {},
   "outputs": [
    {
     "data": {
      "text/plain": [
       "'TlemendoPandaCalibeño'"
      ]
     },
     "execution_count": 36,
     "metadata": {},
     "output_type": "execute_result"
    }
   ],
   "source": [
    "nick"
   ]
  },
  {
   "cell_type": "markdown",
   "id": "e88dc845-7bbd-495a-89aa-05175c6cbf09",
   "metadata": {},
   "source": [
    "### Context manager, analogia para abrir la puerta\n",
    "\n",
    "with (Mantiene la coherencia de los datos) hay que darle un alias al contexto"
   ]
  },
  {
   "cell_type": "code",
   "execution_count": 37,
   "id": "e50b65f7-16ea-4594-9b65-63178a0cdf62",
   "metadata": {},
   "outputs": [
    {
     "name": "stdin",
     "output_type": "stream",
     "text": [
      "Escribe un mensaje: Tupu\n"
     ]
    }
   ],
   "source": [
    "msg = input(\"Escribe un mensaje:\")"
   ]
  },
  {
   "cell_type": "code",
   "execution_count": 1,
   "id": "d31f7edf-7102-4494-bcd5-41b36e8327b4",
   "metadata": {},
   "outputs": [],
   "source": [
    "#Posible al 100 pregunta de examen"
   ]
  },
  {
   "cell_type": "code",
   "execution_count": 2,
   "id": "caff7428-902d-4409-abcc-0c0a1db75cef",
   "metadata": {},
   "outputs": [],
   "source": [
    "import socket as sc"
   ]
  },
  {
   "cell_type": "code",
   "execution_count": 7,
   "id": "aa74381d-f3f4-454d-b502-c2f492040df9",
   "metadata": {},
   "outputs": [
    {
     "data": {
      "text/plain": [
       "'MSI'"
      ]
     },
     "execution_count": 7,
     "metadata": {},
     "output_type": "execute_result"
    }
   ],
   "source": [
    "sc.gethostname()"
   ]
  },
  {
   "cell_type": "code",
   "execution_count": 10,
   "id": "dd7507f9-f513-4923-9bbd-a8d8792f3436",
   "metadata": {},
   "outputs": [
    {
     "data": {
      "text/plain": [
       "('MSI', [], ['10.34.80.24'])"
      ]
     },
     "execution_count": 10,
     "metadata": {},
     "output_type": "execute_result"
    }
   ],
   "source": [
    "sc.gethostbyname_ex(sc.gethostname())"
   ]
  },
  {
   "cell_type": "code",
   "execution_count": 17,
   "id": "a7fcbed0-2a0d-48fd-a8b3-023413cc5f2c",
   "metadata": {},
   "outputs": [
    {
     "name": "stderr",
     "output_type": "stream",
     "text": [
      "\"ping\" no se reconoce como un comando interno o externo,\n",
      "programa o archivo por lotes ejecutable.\n"
     ]
    }
   ],
   "source": [
    "ping 10.34.80.24"
   ]
  },
  {
   "cell_type": "code",
   "execution_count": 20,
   "id": "4449d062-9289-470f-9a54-a7390c0ac3b0",
   "metadata": {},
   "outputs": [],
   "source": [
    "s=sc.socket()"
   ]
  },
  {
   "cell_type": "code",
   "execution_count": 22,
   "id": "8ed47671-c4d6-43ea-b24c-af9ee81816cb",
   "metadata": {},
   "outputs": [
    {
     "ename": "TimeoutError",
     "evalue": "[WinError 10060] Se produjo un error durante el intento de conexión ya que la parte conectada no respondió adecuadamente tras un periodo de tiempo, o bien se produjo un error en la conexión establecida ya que el host conectado no ha podido responder",
     "output_type": "error",
     "traceback": [
      "\u001b[1;31m---------------------------------------------------------------------------\u001b[0m",
      "\u001b[1;31mTimeoutError\u001b[0m                              Traceback (most recent call last)",
      "Cell \u001b[1;32mIn [22], line 1\u001b[0m\n\u001b[1;32m----> 1\u001b[0m \u001b[43ms\u001b[49m\u001b[38;5;241;43m.\u001b[39;49m\u001b[43mconnect\u001b[49m\u001b[43m(\u001b[49m\u001b[43m(\u001b[49m\u001b[38;5;124;43m\"\u001b[39;49m\u001b[38;5;124;43mwww.universidadeuropea.es\u001b[39;49m\u001b[38;5;124;43m\"\u001b[39;49m\u001b[43m,\u001b[49m\u001b[38;5;241;43m50000\u001b[39;49m\u001b[43m)\u001b[49m\u001b[43m)\u001b[49m\n",
      "\u001b[1;31mTimeoutError\u001b[0m: [WinError 10060] Se produjo un error durante el intento de conexión ya que la parte conectada no respondió adecuadamente tras un periodo de tiempo, o bien se produjo un error en la conexión establecida ya que el host conectado no ha podido responder"
     ]
    }
   ],
   "source": [
    "s.connect((\"www.universidadeuropea.es\",50000))"
   ]
  },
  {
   "cell_type": "code",
   "execution_count": 19,
   "id": "bf09e5fe-dfd3-4cc8-afda-3057c4d11d9b",
   "metadata": {},
   "outputs": [
    {
     "data": {
      "text/plain": [
       "('www.universidadeuropea.es', [], ['34.98.96.131'])"
      ]
     },
     "execution_count": 19,
     "metadata": {},
     "output_type": "execute_result"
    }
   ],
   "source": [
    "sc.gethostbyname_ex(\"www.universidadeuropea.es\")"
   ]
  },
  {
   "cell_type": "code",
   "execution_count": null,
   "id": "58cca690-675b-4f6d-96df-ef2bef3b30e8",
   "metadata": {},
   "outputs": [],
   "source": []
  }
 ],
 "metadata": {
  "kernelspec": {
   "display_name": "Python 3 (ipykernel)",
   "language": "python",
   "name": "python3"
  },
  "language_info": {
   "codemirror_mode": {
    "name": "ipython",
    "version": 3
   },
   "file_extension": ".py",
   "mimetype": "text/x-python",
   "name": "python",
   "nbconvert_exporter": "python",
   "pygments_lexer": "ipython3",
   "version": "3.10.7"
  }
 },
 "nbformat": 4,
 "nbformat_minor": 5
}
