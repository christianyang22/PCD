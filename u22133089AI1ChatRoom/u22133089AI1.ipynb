{
 "cells": [
  {
   "cell_type": "markdown",
   "id": "bba9f64d-5a6d-4020-b726-1dde2210d2c8",
   "metadata": {},
   "source": [
    "<!-- PROFILE LINK -->\n",
    "\n",
    "<h1 style = \"text-align:center; font-size: 30px\">PROGRAMACIÓN CONCURRENTE Y DISTRIBUIDA</h1>\n",
    "<a href =\"https://github.com/christianyang22\">\n",
    "<img src=\"https://avatars.githubusercontent.com/u/103989159?s=400&u=52cbb863b4a897985f0548922e6e678f9c98cc1c&v=4\" style=\"float:left;vertical-align:centre\" width=\"110\" height=\"110\" title = \"Christian Jonathan Yang Gonzalez 22133089\">\n",
    "<a href =\"https://github.com/christianyang22?tab=repositories\">\n",
    "<img src=\"https://media-exp1.licdn.com/dms/image/C4D0BAQEu_Aa76fcmPw/company-logo_200_200/0/1630998679429?e=2159024400&v=beta&t=2feC9GG7RWCWizTqsK5HzDWB1TL2DOQuAVwnMf6FFvk\" title = \"M421\" alt=\"UE\" width=\"110\" height=\"110\" style=\"float:right;vertical-align:centre\">"
   ]
  },
  {
   "cell_type": "markdown",
   "id": "139165ca-2809-478f-8725-d3079dc40852",
   "metadata": {},
   "source": [
    "# Memoria"
   ]
  },
  {
   "cell_type": "markdown",
   "id": "9e0c0edd-2269-4b48-bd19-319d11256a27",
   "metadata": {
    "tags": []
   },
   "source": [
    "## Introduccion"
   ]
  },
  {
   "cell_type": "markdown",
   "id": "802d9908-bb9c-40ba-ac3b-6949f8e9468c",
   "metadata": {},
   "source": [
    "En este trabajo aprenderemos como enlazarnos a un servidor y poder realizar un chatroom, con la finalidad de entender como trabajan los hilos y el socket.\n",
    "\n",
    "Objetivos:\n",
    "    \n",
    "    1.  Conocer los problemas que genera la concurrencia y que trataremos a lo largo de la asignatura.  \n",
    "    2.  Aplicar las posibles soluciones a estos problemas y los mecanismos que se utilizan para resolverlos mediante el uso de hilos.  \n",
    "    3.  Nombre de la actividad AI1  \n",
    "    \n",
    "Tendremos que modificar un programa dado por el profesor, con las siguientes criterios:\n",
    "    \n",
    "    a.  Deberá instanciar 6 clientes y cada uno de ellos debera ingresar mediante el teclado la dirección ip y el puerto, que será los últimos 5 dígitos de su número de expediente. 2 pto.  \n",
    "    b.  Que cada vez que un cliente se conecte, este pueda y deba elegir un nickname que será vuestro correo de la universidad y que deberá ser mostrado cada vez que escriba un texto. 2 pto.  \n",
    "    c.  Que el servidor, imprima y muestre la lista de usuarios (nicknames) conectados al mismo (en ese instante). 2pto.  \n",
    "    d.  Que el servidor almacene el historial de chat de todos los usuarios conectados durante la sesión y lo guarde en un archivo que se deberá llamar uvuestroExp.txt (u21535220AI1.txt) 4pto."
   ]
  },
  {
   "cell_type": "markdown",
   "id": "4cda5c79-2d18-4b2e-825b-4cbbc65e94c7",
   "metadata": {
    "tags": []
   },
   "source": [
    "## Cliente"
   ]
  },
  {
   "cell_type": "markdown",
   "id": "b809b7c2-d519-4e13-afc0-561f07d2a938",
   "metadata": {
    "tags": []
   },
   "source": [
    "### Librerias"
   ]
  },
  {
   "cell_type": "markdown",
   "id": "a6b4cd95-faae-45e6-b5ea-304ab4bcfeb1",
   "metadata": {},
   "source": [
    "Gracias a estas librerias podremos realizar el trabajo de manipulacion de hilos, enlace con servidor-cliente, cifrado/descifrado de mensajes y funcionalidades del sistema operativo"
   ]
  },
  {
   "cell_type": "code",
   "execution_count": null,
   "id": "251ba4cd-2b63-4cf7-bd9e-f7195d283ca6",
   "metadata": {},
   "outputs": [],
   "source": [
    "import threading #Libreria threading, para poner matipular los hilos\n",
    "import sys #Libreria de sistema, para la interaccion con el interprete (poder hablar con el sistema)\n",
    "import socket #Libreria socket, para poder enlazarnos cliente-servidoer\n",
    "import pickle #Libreria pickle para la encriptacion del codigo\n",
    "import os #Libreria del sistema operativo, para el uso de funciones dependiente del sistema operativo."
   ]
  },
  {
   "cell_type": "markdown",
   "id": "91c29d9b-0faa-4971-8ad3-6e061967f227",
   "metadata": {
    "tags": []
   },
   "source": [
    "### Contructor principal (__init__)"
   ]
  },
  {
   "cell_type": "markdown",
   "id": "408563ff-43ef-4af7-a2ab-c738cf5459ea",
   "metadata": {},
   "source": [
    "1. Aqui como primera instancia declaramos y inicializamos por pantalla los parametros del contructor host(ip), port (puerto) y user(nombre del usuario)\n",
    "2. Declaramos y inicializamos self.s para poder utilizar la librerias de socker \n",
    "3. El bucle while del user para que si o si te tenga que dar un nombre, ya que es un requisito primordial para el ChatRoom para poder saber quien eres en el chat, no sale de el hasta que el string sea no vacio y lo guardamos en la variable self.username.\n",
    "4. Utilizamos la funcion open() para poder crear el txt de la listas de usuarios para poder imprimir al servidor la lista de usuarios activos en el chat, utilizamos modo append, para que no se sobre escriba la lista.\n",
    "5. Creamos la tupla de la variable self.s para poder guardar al usuario y el puerto, para conectarse con el servidor.\n",
    "6. Un print por pantalla el proceso actual el total de hilos que estan disponibles para ti, luego el hilo instanciado para ti para intercambiar la informacion con el servidor en el threading.thread().star(). "
   ]
  },
  {
   "cell_type": "code",
   "execution_count": null,
   "id": "0f7d1518-ea0f-4e01-ac62-30606b2caa98",
   "metadata": {},
   "outputs": [],
   "source": [
    "class Cliente():\n",
    "    #Constructor principal\n",
    "\tdef __init__(self, host=input(\"Introduzca la IP del servidor? \"), port=int(input(\"Introduzca el puerto del servidor? \")),user=\"\"): #Los parametros del constructor princial Host(ip), port(puerto) y user(usuario).\n",
    "\t\tself.s = socket.socket() #inicializar la variable para poder utilizar las funciones de la libreria socket\n",
    "\t\twhile(user==\"\"): #Bucle while para pedir el usuario hasta que le pases uno no vacio.\n",
    "\t\t\tuser=input(\"Nombre del usuario: \") #pide por teclado que le pases un usuario\n",
    "\t\tself.username = user #inicializa y guarda el usuario que le has pasado\n",
    "\t\twith open(\"u22133089AI1UserList.txt\", \"a\") as f: #Funcion para crear un .txt para crear una lista de usuarios, que se conectan\n",
    "\t\t\tf.write(self.username + \"\\n\") #Pasa al txt el usuario escogido, apila y lo guarda\n",
    "\t\tself.s.connect((host, int(port))) #Le pasas la ip y el puerto en la que esta instanciado el servidor\n",
    "\t\tprint('\\n\\tProceso con PID = ',os.getpid(), '\\n\\tHilo PRINCIPAL con ID =',threading.currentThread().getName(), '\\n\\tHilo en modo DAEMON = ', threading.currentThread().isDaemon(),'\\n\\tTotal Hilos activos en este punto del programa =', threading.active_count()) #Te pasa proceso actual, como el hilo encargado de tu chat y lo hace demonio, los hilos activos para todo esto.\n",
    "\t\tthreading.Thread(target=self.recibir, daemon=True).start() #Instancia el hilo del chat"
   ]
  },
  {
   "cell_type": "markdown",
   "id": "9de46611-490f-4e83-86de-522126408014",
   "metadata": {
    "tags": []
   },
   "source": [
    "### Bucle para salida del chat"
   ]
  },
  {
   "cell_type": "markdown",
   "id": "9067bab4-37ed-4e39-9454-af76fa8c5852",
   "metadata": {},
   "source": [
    "En este bucle y su contenido se carga de estar revisando lo que le pasa el usuario por teclado, si es un \"0\", significa que quiere abandonar el chat y si no llama a la funcion enviar, para cifrar el mensaje y mandarlo al servidor, se mantiene siempre activo a la espera de lo que escribe por teclado el usuario."
   ]
  },
  {
   "cell_type": "code",
   "execution_count": null,
   "id": "d88ba8e0-2eb8-401f-89e3-9b03f8327ed2",
   "metadata": {},
   "outputs": [],
   "source": [
    "\t\twhile True: #Bucle para salir del programa\n",
    "\t\t\tmsg = input('\\nEscriba texto ?   ** Enviar = ENTER   ** Salir Chat = 0 \\n') #muestra por pantalla la forma de salir de el, para que sepas que caracter clave es.\n",
    "\t\t\tif msg != '0' : self.enviar(msg) #Si no es el caracter clave para salir lo manda a la funcion enviar para mandarlo al servidor y lo transmita a los demas chat.\n",
    "\t\t\telse: #si es =0\n",
    "\t\t\t\tprint(\" **** Me piro vampiro; cierro socket y mato al CLIENTE con PID = \", os.getpid()) #te dice que termina el proceso y cierra el programa\n",
    "\t\t\t\tself.mantenerUsariosActivos(self.username) #Elimina de la lista tu usuario, para que solo aparezcan los usuarios activos.\n",
    "\t\t\t\tself.s.close() #Cierra el socket\n",
    "\t\t\t\tsys.exit() #Sale del programa y cierra interracion del programa por terminal."
   ]
  },
  {
   "cell_type": "markdown",
   "id": "76443ca3-1ca6-4bfb-b2a4-cd1deacd11a3",
   "metadata": {
    "tags": []
   },
   "source": [
    "### Usuarios activos (archivo txt)"
   ]
  },
  {
   "cell_type": "markdown",
   "id": "0bc3c43d-8740-4d84-98a1-a660044f2936",
   "metadata": {},
   "source": [
    "Este metodo se encarga principalmente de mantener los usuarios activos, eso quiere decir que si un usuario deja el chat se encarga de revisar el txt y sobreescribirlo con los usuarios activos."
   ]
  },
  {
   "cell_type": "code",
   "execution_count": null,
   "id": "75886119-dcf4-4e3c-88ff-ec7b013bc46b",
   "metadata": {},
   "outputs": [],
   "source": [
    "\tdef mantenerUsariosActivos(self, user): #Metodo para eliminar un nombre del txt, donde se guardan todos los user, cuando se salga el usuario del chat\n",
    "\t\tuserNamesList = [] #declarar un array para contener los usuarios de cada linea dentro de ella.\n",
    "\t\twith open(\"u22133089AI1UserList.txt\", \"r\") as f: #abrimos el txt, para leerlo\n",
    "\t\t\t\t\tusername = f.readlines() #Le damos el vamor de leer el txt que abrimos anterior mente\n",
    "\t\t\t\t\tfor n in username: #Introducimos esa lista en el for, para que recorra todos los usuarios\n",
    "\t\t\t\t\t\tif ((user + \"\\n\") != n): #Si el nickname no se encuentra en ella \n",
    "\t\t\t\t\t\t\tuserNamesList.append(n) #Se agrega al final del array añadiendo un nuevo valor\n",
    "\t\twith open(\"u22133089AI1UserList.txt\", \"w\") as f: #abrimos el txt para sobreescribirlo\n",
    "\t\t\tfor n in userNamesList: #Pasamos la lista al bucle para recorrerla\n",
    "\t\t\t\tf.write(n) #Sobre escribimos la lista de usuarios para mantener solo los activos."
   ]
  },
  {
   "cell_type": "markdown",
   "id": "5a97be76-a249-45f6-9302-5405c4a94854",
   "metadata": {
    "tags": []
   },
   "source": [
    "### Recibir mensajes"
   ]
  },
  {
   "cell_type": "markdown",
   "id": "d8f5a856-ac49-4126-ab6e-a99a251c604a",
   "metadata": {},
   "source": [
    "Este metodo se encarga de descencriptar los mensajes que manda el servidor y imprimirlos por pantalla para que el usuario pueda recibir la informacion del chat, siempre esta activo para recibir mensaje en cualquier momento."
   ]
  },
  {
   "cell_type": "code",
   "execution_count": null,
   "id": "ab125475-f3a3-47e2-adfe-af344176a567",
   "metadata": {},
   "outputs": [],
   "source": [
    "\tdef recibir(self): #Metodo que recibe los mensajes que manda el servidor\n",
    "\t\tprint('\\nHilo RECIBIR con ID =',threading.currentThread().getName(), '\\n\\tPertenece al PROCESO con PID', os.getpid(), \"\\n\\tHilos activos TOTALES \", threading.active_count()) #imprime que hilos estas utilizando y que id y proceso de cual esta encargado. \n",
    "\t\twhile True: #Bucle que esta siempre activo para recibir mensajes\n",
    "\t\t\ttry: #Try except, para que no se pare el programa si llega haber un error o error fatal.\n",
    "\t\t\t\tdata = self.s.recv(1024) #Guardamos en una variable el mensaje cifrado y se desifra, mediante la otra variable que esta ligada con la libreria socket (self.s.recv(1024)), ademas de la cantidad de bits que puede tener el mensaje \n",
    "\t\t\t\tif data: print(pickle.loads(data)) #Condicional para data que imprima el mensaje por pantalla\n",
    "\t\t\texcept: pass"
   ]
  },
  {
   "cell_type": "markdown",
   "id": "399cff0e-bf65-44a0-8ed7-bc7cd31799ed",
   "metadata": {
    "tags": []
   },
   "source": [
    "### Enviar mensajes"
   ]
  },
  {
   "cell_type": "markdown",
   "id": "59e4e257-e5b3-4450-88b8-66ed1d986e97",
   "metadata": {},
   "source": [
    "Este metodo se ejecuta cuando el constructor principal __init__ lo esta llamando, ya que lo que recibio por teclado es algo diferente de 0, eso significa que quiere mandar un mensaje a todos los demas usuarios, por lo que el mensaje se envia al servidor, para que el se encargue de transmitirlo a los demas. "
   ]
  },
  {
   "cell_type": "code",
   "execution_count": null,
   "id": "c284b18c-39bd-4788-9db4-8e124680c15a",
   "metadata": {},
   "outputs": [],
   "source": [
    "\tdef enviar(self, msg): #Metodo enviar, para mandar los mensaje al servidor los pase a los demas usuarios.\n",
    "\t\tself.s.send(pickle.dumps(self.username + \": \" + msg)) #Serializar, mediante la libreria pickle y mandarlo mediante el enlaze del socket (self.s.send)\n",
    "\t\twith open(\"u22133089AI1.txt\", \"a\") as f: #Creamos un txt, donde se guardara un historial de los mensajes que manda el cliente, modo append, para que no se sobreescriba y se apilen los datos que se ingresen.\n",
    "\t\t\tf.write(self.username + \": \" + msg + \"\\n\") #Funcion escribir rellena el txt con el historial."
   ]
  },
  {
   "cell_type": "markdown",
   "id": "a6b975f6-2742-46d9-873b-93005d42026f",
   "metadata": {
    "tags": []
   },
   "source": [
    "### Variable que ejecuta el programa"
   ]
  },
  {
   "cell_type": "markdown",
   "id": "c5f18145-6faf-494e-b122-70d16c88df72",
   "metadata": {},
   "source": [
    "Se declara y inicializa la variable que ejecuta la clase cliente (programa)."
   ]
  },
  {
   "cell_type": "code",
   "execution_count": null,
   "id": "81f98ea1-4635-4a8d-b0ef-bf2c8985151f",
   "metadata": {},
   "outputs": [],
   "source": [
    "arrancar = Cliente() #Ejecuta el programa."
   ]
  },
  {
   "cell_type": "markdown",
   "id": "4f11fa86-74e7-46bb-b167-7737ea4f4e2c",
   "metadata": {
    "tags": []
   },
   "source": [
    "## Servidor"
   ]
  },
  {
   "cell_type": "markdown",
   "id": "c372efc1-ae62-4466-b0af-9eca9c3d7467",
   "metadata": {
    "tags": []
   },
   "source": [
    "### Librerias"
   ]
  },
  {
   "cell_type": "markdown",
   "id": "4448e603-c3d0-4af3-877d-57cd36e36403",
   "metadata": {},
   "source": [
    "Gracias a estas librerias podremos realizar el trabajo de manipulacion de hilos, enlace con servidor-cliente, cifrado/descifrado de mensajes y funcionalidades del sistema operativo"
   ]
  },
  {
   "cell_type": "code",
   "execution_count": null,
   "id": "aeb5b5a9-a042-4b9d-bd1d-6ace84597f14",
   "metadata": {},
   "outputs": [],
   "source": [
    "import threading #Libreria threading, para poner matipular los hilos\n",
    "import sys #Libreria de sistema, para la interaccion con el interprete (poder hablar con el sistema)\n",
    "import socket #Libreria socket, para poder enlazarnos cliente-servidoer\n",
    "import pickle #Libreria pickle para la encriptacion del codigo\n",
    "import os #Libreria del sistema operativo, para el uso de funciones dependiente del sistema operativo."
   ]
  },
  {
   "cell_type": "markdown",
   "id": "06a5898a-f1b1-462d-9c12-49b4a3e5f56f",
   "metadata": {
    "tags": []
   },
   "source": [
    "### Contructor principal (__init__)"
   ]
  },
  {
   "cell_type": "markdown",
   "id": "fa49a6ba-2af7-47fa-b624-4fedcb224489",
   "metadata": {},
   "source": [
    "1. Aqui como primera instancia declaramos y inicializamos por pantalla los parametros del contructor host(ip), port (puerto).\n",
    "2. Declaramos el array clientes, que contendra los puertos de los clientes conectados al servidor.\n",
    "3. Imprime por pantalla el ip al cual estas conectado y el proceso, hilos y todo lo relacionado al proceso.\n",
    "4. Declaramos y inicializamos self.s para poder utilizar la librerias de socker \n",
    "5. self.s.bind() esta funcion de la libreria nos permite enlazarnos con el address (ip), si el puerto esta ocupado no enciende el servidor, hasta que le pase un puerto libre para poder instanciarlo.\n",
    "4. Cuantos usuarios podran solicitarse conectar al servidor.\n",
    "5. Que socket no se bloquee, mientras se ejecuta el programa.\n",
    "6. Hace el hilo utilizados en los metodos aceptar y procesar sean demonios, para que esten siempre activos."
   ]
  },
  {
   "cell_type": "code",
   "execution_count": null,
   "id": "ad6d5a7a-d631-4f6d-9fc9-b11fd6680635",
   "metadata": {},
   "outputs": [],
   "source": [
    "class Servidor():\n",
    "    # Constructor principal.\n",
    "\tdef __init__(self, host=socket.gethostname(), port=int(input(\"Que puerto quiere usar ? \"))): #Parametros del constructor host(ip), port(puerto).\n",
    "\t\tself.clientes = [] #Array para guardar el puerto por el que ha ingresado.\n",
    "\t\tprint('\\nSu IP actual es : ',socket.gethostbyname(host)) #Imprime por pantalla para que semas cual es tu ip.\n",
    "\t\tprint('\\n\\tProceso con PID = ',os.getpid(), '\\n\\tHilo PRINCIPAL con ID =',threading.currentThread().getName(), '\\n\\tHilo en modo DAEMON = ', threading.currentThread().isDaemon(), '\\n\\tTotal Hilos activos en este punto del programa =', threading.active_count()) #Te pasa proceso actual, como el hilo encargado de tu chat y lo hace demonio, los hilos activos para todo esto.\n",
    "\t\tself.s = socket.socket() #inicializar la variable para poder utilizar las funciones de la libreria socket\n",
    "\t\tself.s.bind((str(host), int(port))) #Enlaza el socket al address, tiene que estar libre el socket, si no no podra enlazarse y encender el servidor.\n",
    "\t\tself.s.listen(30) #Decirle al socket cuantos usuarios podran solicitarse conectar al servidor.\n",
    "\t\tself.s.setblocking(False) #Para que que el socket sea no bloqueante, para que no se bloque durante la ejecucion del programa.\n",
    "\n",
    "\t\tthreading.Thread(target=self.aceptarC, daemon=True).start() #Hace que este hilo sea un hilo demonio mientras se ejecute el programa.\n",
    "\t\tthreading.Thread(target=self.procesarC, daemon=True).start() #Hace que este hilo sea un hilo demonio mientras se ejecute el programa."
   ]
  },
  {
   "cell_type": "markdown",
   "id": "26e25968-33d0-426b-b14a-2aaca9ffe555",
   "metadata": {
    "tags": []
   },
   "source": [
    "### Bucle para salida del chat"
   ]
  },
  {
   "cell_type": "markdown",
   "id": "1cc88487-ef23-400f-9b81-d6c198421f22",
   "metadata": {},
   "source": [
    "En este bucle y su contenido se carga de estar revisando lo que le pasa el usuario por teclado, si es un \"0\", significa que quiere abandonar el chat comenzamos a cerrar todo el cervidor, dejamos en blanco el listado de usuarios que se conectaron (si el servidor se cae, no tiene que haber usuarios activos) sobreescribimos con un archivo en blanco, ademas de cerrar el socket y el interprete."
   ]
  },
  {
   "cell_type": "code",
   "execution_count": null,
   "id": "b3322310-ed33-4e62-86e0-264a4808e1ff",
   "metadata": {},
   "outputs": [],
   "source": [
    "\t\twhile True: #Bucle para salir del programa\n",
    "\t\t\tmsg = input('\\n << SALIR = 0 >> \\n') #Te dice por pantalla como cerrar el servidor.\n",
    "\t\t\tif msg == '0': #El mensaje recibido es igual a \"0\", entra.\n",
    "\t\t\t\tprint(\" **** Me piro vampiro; cierro socket y mato SERVER con PID = \", os.getpid()) #Imprime que se cerrara el server y el proceso que se termina\n",
    "\t\t\t\twith open(\"u22133089AI1UserList.txt\", \"w\") as f: #Resetea la lista de usuario activos en blanco.\n",
    "\t\t\t\t\tf.write(\" \") #Guarda un archivo en blanco.\n",
    "\t\t\t\tself.s.close() #Cierra el socket.\n",
    "\t\t\t\tsys.exit() #Cierra el interprete\n",
    "\t\t\telse: pass #Si no es un 0 pasa del tema y sigue el programa activo."
   ]
  },
  {
   "cell_type": "markdown",
   "id": "73d7439c-4fe3-4248-93b6-dff1b9efac8b",
   "metadata": {
    "tags": []
   },
   "source": [
    "### Aceptar los enlaces cliente servidor"
   ]
  },
  {
   "cell_type": "markdown",
   "id": "7d095ed8-1cf8-4e40-9d8b-f64d1cff26b6",
   "metadata": {},
   "source": [
    "Se encarga de enlazar cada cliente que se quiera conectar al servidor."
   ]
  },
  {
   "cell_type": "code",
   "execution_count": null,
   "id": "f3062b0b-c7d9-4592-8902-907fd4389988",
   "metadata": {},
   "outputs": [],
   "source": [
    "\tdef aceptarC(self): #Metodo que acepta el enlace entre cliente-servidor.\n",
    "\t\tprint('\\nHilo ACEPTAR con ID =',threading.currentThread().getName(), '\\n\\tHilo en modo DAEMON = ', threading.currentThread().isDaemon(),'\\n\\tPertenece al PROCESO con PID', os.getpid(), \"\\n\\tHilos activos TOTALES \", threading.active_count()) #imprime que hilos estas utilizando y que id y proceso de cual esta encargado. \n",
    "\t\twhile True: #Bucle que se mantiene siempre activo\n",
    "\t\t\ttry: #Try except, para posibles errores y no se detenga el programa.\n",
    "\t\t\t\tconn, addr = self.s.accept() #Acepta el enlace entre cliente-servidor.\n",
    "\t\t\t\tprint(f\"\\nConexion aceptada via {addr}\\n\") #Imprime el puerto por el que se ha conectado.\n",
    "\t\t\t\tconn.setblocking(False) #Desactivamos el bloqueo, para que no se bloquee mientras este en ejecucion..\n",
    "\t\t\t\tself.clientes.append(conn) #Guardamos el puerto en la pila, para saber cual es el de cada cliente, al momento de mandar los mensajes a cada uno.\n",
    "\t\t\t\tself.imprimirUsuarios()  #Leemos los usuarios que van entrando para enseñarlos por pantalla\n",
    "\t\t\texcept: pass #Si llega suceder o saltar algun error, ignorarlo sin terminar el problema"
   ]
  },
  {
   "cell_type": "markdown",
   "id": "b283f822-7baf-43a5-baff-8fa0839d3f7b",
   "metadata": {
    "tags": []
   },
   "source": [
    "### Imprimir usuarios"
   ]
  },
  {
   "cell_type": "markdown",
   "id": "0530532a-b13f-4d69-9e15-17cb1e391daa",
   "metadata": {},
   "source": [
    "Metodo que se encarga de imprimir por pantalla los usuarios activos."
   ]
  },
  {
   "cell_type": "code",
   "execution_count": null,
   "id": "42ed66f0-9e91-4fea-a1e6-6ce33c49b345",
   "metadata": {},
   "outputs": [],
   "source": [
    "\tdef imprimirUsuarios(self): #Metodo que imprime por pantalla todos los usuarios activos.\n",
    "\t\twith open(\"u22133089AI1UserList.txt\", \"r\") as f: #Una lista de los usuarios en txt, que mantiene los usuarios activos que hay en el chatroom\n",
    "\t\t\tprint(\"Clientes conectados ahora [\\n\" + f.read() + \"]\") #Imprime por pantalla todos los usuarios."
   ]
  },
  {
   "cell_type": "markdown",
   "id": "1077df08-bfd8-4197-a620-a10a8eb66587",
   "metadata": {},
   "source": [
    "### Procesar mensaje"
   ]
  },
  {
   "cell_type": "markdown",
   "id": "5f0727dd-7715-4e21-bf4b-bfd9ee4571bc",
   "metadata": {},
   "source": [
    "Este metodo se encarga de recibir el mensaje que envia un usuario, y no hace nada al menos que haya un minimo de 2 usuarios en el chatRoom, y lo deserealiza/desencripta y llama al metodo broadcast pasandole el mensaje a los demas usuarios menos al que lo envia."
   ]
  },
  {
   "cell_type": "code",
   "execution_count": null,
   "id": "adcf27de-62b3-45d4-bc95-898cf4e85cda",
   "metadata": {},
   "outputs": [],
   "source": [
    "\tdef procesarC(self): #Metodo que procesa el mensaje mandado, para deserealizar/descencriptarlo, prepararlo mandar a todos los usuarios menos al que envio el mensaje.\n",
    "\t\tprint('\\nHilo PROCESAR con ID =',threading.currentThread().getName(), '\\n\\tHilo en modo DAEMON = ', threading.currentThread().isDaemon(),'\\n\\tPertenece al PROCESO con PID', os.getpid(), \"\\n\\tHilos activos TOTALES \", threading.active_count()) #imprime que hilos estas utilizando y que id y proceso de cual esta encargado. \n",
    "\t\twhile True: #Bucle que se mantiene siempre activo\n",
    "\t\t\tif len(self.clientes) > 0: #Tiene que haber al menos 2 usuarios para poder recibir informacion.\n",
    "\t\t\t\tfor c in self.clientes: #Pasamo la lista de usuarios como el for va valer siempre al menos 1, aunque se repetira el total de usuarios esten conectados.\n",
    "\t\t\t\t\ttry: #Try except, para posibles errores y no se detenga el programa.\n",
    "\t\t\t\t\t\tdata = c.recv(1024) #Deserealizar/descencriptar el mensaje, para llamar al metodo broadcaste()\n",
    "\t\t\t\t\t\tif data: self.broadcast(data,c) #Llamo al broadcast tantas veces como usuarios haya menos 1, para mandarle la informacion a todos ellos.\n",
    "\t\t\t\t\texcept: pass #Si llega suceder o saltar algun error, ignorarlo sin terminar el problema"
   ]
  },
  {
   "cell_type": "markdown",
   "id": "a4661d64-019a-4dfc-a49e-1ff35ae993b0",
   "metadata": {},
   "source": [
    "### Enviar mensaje"
   ]
  },
  {
   "cell_type": "markdown",
   "id": "cef2f21f-932b-4a41-9486-b30942338fd8",
   "metadata": {},
   "source": [
    "Metodo se encarga de enviar los mensaje a los demas usuarios del chat, opero sin mandarselo al que lo mando, por eso este metodo, pide el puerto (id) del que manda el mensaje, para que cuando en la lista se encuentre no haga nada y pase al siguiente para seguir mandado los menajes."
   ]
  },
  {
   "cell_type": "code",
   "execution_count": null,
   "id": "f69a04e1-a8d8-4073-9f31-3cbf137d2f4f",
   "metadata": {},
   "outputs": [],
   "source": [
    "\tdef broadcast(self, msg, cliente): #Metodo que se encarga de mandar el mensaje a cada usuario.\n",
    "\t\taux=0 #Variable que utilizaremos para que no imprima tantas veces como usuarios -1 haya.\n",
    "\t\tfor c in self.clientes: #Un bucle que le pasa los puertos y se repite tantos usuarios haya.\n",
    "\t\t\ttry: #Try except, para posibles errores y no se detenga el programa.\n",
    "\t\t\t\tif c != cliente: #Condicional solo deja pasar, si c es diferente al usuario(cliente) que mando el mensaje.\n",
    "\t\t\t\t\tif aux==0: #Condicional, para que no imprima cuantos conectados hay y imprimir el mismo mensaje del servidor como tantos usuarios-1 haya.\n",
    "\t\t\t\t\t\tprint(\"\\nClientes conectados Right now = \", len(self.clientes)) #Te dice el numero de usuarios conectados.\n",
    "\t\t\t\t\t\tself.imprimirUsuarios() #Te dice el nombre de los usarios conectados.\n",
    "\t\t\t\t\t\tprint(pickle.loads(msg)) #Serializa/encripta el mensaje.\n",
    "\t\t\t\t\t\taux=1 #Al valer 1 el auxiliar, hace que no entre al condicional solo 1 vez.\n",
    "\t\t\t\t\tc.send(msg) #Manda el mensaje a todos los usuarios que no sea el que lo haya enviado.\n",
    "\t\t\texcept: self.clientes.remove(c) #Si el usuario no esta lo desapila de la lista, para mantener solo los activos."
   ]
  },
  {
   "cell_type": "markdown",
   "id": "4c9dc1c0-d0fd-4abd-90af-cfd4753ea2fd",
   "metadata": {},
   "source": [
    "### Variable que ejecuta el programa"
   ]
  },
  {
   "cell_type": "markdown",
   "id": "141812c9-2a65-4d9d-88ca-bf5ca9e8f1ef",
   "metadata": {},
   "source": [
    "Se declara y inicializa la variable que ejecuta la clase cliente (programa)."
   ]
  },
  {
   "cell_type": "code",
   "execution_count": null,
   "id": "e893158a-47cc-44f3-8490-2c60208286a1",
   "metadata": {},
   "outputs": [],
   "source": [
    "arrancar = Servidor() #Variable que se encarga de correr la clase servidor."
   ]
  },
  {
   "cell_type": "markdown",
   "id": "e44767f5-42c3-4a67-ac30-2b38e8f5e0fe",
   "metadata": {},
   "source": [
    "### Resutaldos"
   ]
  },
  {
   "cell_type": "markdown",
   "id": "2a7e0f32-3841-46ca-97fc-2fbb410494a6",
   "metadata": {},
   "source": [
    "    a.  Deberá instanciar 6 clientes y cada uno de ellos debera ingresar mediante el teclado la dirección ip y el puerto, que será los últimos 5 dígitos de su número de expediente. 2 pto.      (__COMPLETADO__)\n",
    "    b.  Que cada vez que un cliente se conecte, este pueda y deba elegir un nickname que será vuestro correo de la universidad y que deberá ser mostrado cada vez que escriba un texto. 2 pto.   (__COMPLETADO__)\n",
    "    c.  Que el servidor, imprima y muestre la lista de usuarios (nicknames) conectados al mismo (en ese instante). 2pto.                                                                         (__COMPLETADO__)\n",
    "    d.  Que el servidor almacene el historial de chat de todos los usuarios conectados durante la sesión y lo guarde en un archivo que se deberá llamar uvuestroExp.txt (u21535220AI1.txt) 4pto. (__COMPLETADO__)"
   ]
  },
  {
   "cell_type": "code",
   "execution_count": null,
   "id": "4d60737c-b8f6-4933-a6eb-d834b594b2b9",
   "metadata": {},
   "outputs": [],
   "source": [
    "from IPython import display as dp"
   ]
  },
  {
   "cell_type": "code",
   "execution_count": null,
   "id": "43510771-ece3-4eb6-932f-3e106e5ea042",
   "metadata": {},
   "outputs": [],
   "source": [
    "dp.Image(\"Core1.jpeg\").ipynb_checkpoints/"
   ]
  },
  {
   "cell_type": "markdown",
   "id": "9ad062d6-357e-4a04-8c25-bca8544f06b2",
   "metadata": {},
   "source": [
    "<img src= \"https://raw.githubusercontent.com/christianyang22/PCD/master/u22133089AI1ChatRoom/.ipynb_checkpoints/FotoResultado.png?token=GHSAT0AAAAAAB26EYGLMB43MLNPX43D3IWYY3XYR5Q\">"
   ]
  },
  {
   "cell_type": "markdown",
   "id": "5aa199aa-62bb-4ff1-ac1d-6a30b3ad4814",
   "metadata": {},
   "source": [
    "## Manual de uso"
   ]
  },
  {
   "cell_type": "markdown",
   "id": "fe9ba8e2-f508-465f-81f9-b6b8d11a2b44",
   "metadata": {},
   "source": [
    "A continuacion les dare los pasos de como acceder al chat room e iniciar el servidor.\n",
    "\n",
    "1. Situarnos en la carpeta donde tenemos los archivos Servidor.py.\n",
    "2. Abrir un terminal, preferible powershell que este en la misma direccion que la carpeta, ahi abriremos el archivo (python ./Servidor.py), lo correremos y le damos el puerto \"33089\".\n",
    "3. Nos dara la ip y la guardaremos es donde esta alojado el servidor, que hay que pasarlo a los usuarios que se conectaran a nuestro chatroom.\n",
    "4. Pasas el IP y puerto (33089) a los usuarios que accedaran al chat room.\n",
    "5. Cada uno abrira en powershell en la direccion donde se encuentra el archivo Cliente.py.\n",
    "6. Dentro de la direccion donde se encuentra el archivo se pondra python ./Servidor.py, para correr el programa.\n",
    "7. Debera ingresar la IP, port(puert) y un nombre de usuario para entrar, si no cumple estos 3 requisistos no podra hacerlo.\n",
    "8. Luego solo queda de poder disfrutar de chatear entre tus amigos mediante chat room.\n",
    "9. Cuando se quiera finalizar o cerrar el chat/servidor tendran que darloe al numero 0 y enviarlo, eso cerrara el programa correctamente."
   ]
  },
  {
   "cell_type": "markdown",
   "id": "50384f49-0059-4c0c-939d-aaa8f5661f05",
   "metadata": {},
   "source": [
    "## Conclusion"
   ]
  },
  {
   "cell_type": "markdown",
   "id": "ad24d103-10c9-4d3a-aa9e-7a7917c94281",
   "metadata": {},
   "source": [
    "Hemos aprendido a poder enlazarnos mediante ip y puertos entre computadores, siendo una el servidor los demas los usuarios, ademas de cumplir todos los objetivos, pedido para la entrega."
   ]
  }
 ],
 "metadata": {
  "kernelspec": {
   "display_name": "Python 3 (ipykernel)",
   "language": "python",
   "name": "python3"
  },
  "language_info": {
   "codemirror_mode": {
    "name": "ipython",
    "version": 3
   },
   "file_extension": ".py",
   "mimetype": "text/x-python",
   "name": "python",
   "nbconvert_exporter": "python",
   "pygments_lexer": "ipython3",
   "version": "3.10.7"
  }
 },
 "nbformat": 4,
 "nbformat_minor": 5
}
