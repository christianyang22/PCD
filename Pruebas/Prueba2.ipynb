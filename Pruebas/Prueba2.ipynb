{
 "cells": [
  {
   "cell_type": "markdown",
   "id": "bba9f64d-5a6d-4020-b726-1dde2210d2c8",
   "metadata": {},
   "source": [
    "<!-- PROFILE LINK -->\n",
    "\n",
    "<h1 style = \"text-align:center; font-size: 30px\">PROGRAMACIÓN CONCURRENTE Y DISTRIBUIDA</h1>\n",
    "<a href =\"https://github.com/christianyang22\">\n",
    "<img src=\"https://avatars.githubusercontent.com/u/103989159?s=400&u=52cbb863b4a897985f0548922e6e678f9c98cc1c&v=4\" style=\"float:left;vertical-align:centre\" width=\"110\" height=\"110\" title = \"Christian Jonathan Yang Gonzalez 22133089\">\n",
    "<a href =\"https://github.com/christianyang22?tab=repositories\">\n",
    "<img src=\"https://media-exp1.licdn.com/dms/image/C4D0BAQEu_Aa76fcmPw/company-logo_200_200/0/1630998679429?e=2159024400&v=beta&t=2feC9GG7RWCWizTqsK5HzDWB1TL2DOQuAVwnMf6FFvk\" title = \"M421\" alt=\"UE\" width=\"110\" height=\"110\" style=\"float:right;vertical-align:centre\">"
   ]
  },
  {
   "cell_type": "markdown",
   "id": "139165ca-2809-478f-8725-d3079dc40852",
   "metadata": {},
   "source": [
    "# Prueba 2"
   ]
  },
  {
   "cell_type": "code",
   "execution_count": 13,
   "id": "dbcddca7-d221-4515-bd06-b7dcdcbead7c",
   "metadata": {},
   "outputs": [],
   "source": [
    "import time, urllib.request, multiprocessing as mp, concurrent.futures"
   ]
  },
  {
   "cell_type": "code",
   "execution_count": 14,
   "id": "c0684ff7-cfa0-4208-ac06-61d400d3eaa5",
   "metadata": {},
   "outputs": [],
   "source": [
    "hilosDescarga = 5"
   ]
  },
  {
   "cell_type": "code",
   "execution_count": null,
   "id": "3a300bcc-8c6b-4cab-870b-748908b3bac3",
   "metadata": {},
   "outputs": [],
   "source": [
    "url_ = \"https://drive.google.com/uc?export=download&id=1ADxSr55eYTRSRF-44LXnKbY4n5bMWaY-\".format(image_number)"
   ]
  },
  {
   "cell_type": "code",
   "execution_count": 25,
   "id": "080cbcbe-021d-4ee0-bdf6-96496213a6f1",
   "metadata": {},
   "outputs": [],
   "source": [
    "def seq_download_images(img_numbers):\n",
    "    total_bytes=0\n",
    "    for num in img_numbers:\n",
    "        total_bytes += _download_image(num)\n",
    "    return total_bytes"
   ]
  },
  {
   "cell_type": "code",
   "execution_count": 26,
   "id": "48365611-c1e1-4fea-ace1-3ca037fdb49e",
   "metadata": {},
   "outputs": [],
   "source": [
    "def _download_image(image_number):\n",
    "    print(image_number)\n",
    "    image_url='https://drive.google.com/uc?export=download&id=1ADxSr55eYTRSRF-44LXnKbY4n5bMWaY-'.format(image_number)\n",
    "    try:\n",
    "        with urllib.request.urlopen(image_url,timeout=60) as conn:\n",
    "            return len(conn.read())\n",
    "    except urllib.error.HTTPError:\n",
    "        print('Oh god, wtf',image_number)\n",
    "    except Exception as e:\n",
    "        print(e)"
   ]
  },
  {
   "cell_type": "code",
   "execution_count": 27,
   "id": "9141f1a7-669c-44f1-a9d0-a654f8812874",
   "metadata": {},
   "outputs": [],
   "source": [
    "def par_download_images(image_numbers):\n",
    "    total_bytes=0\n",
    "    with concurrent.futures.ThreadPoolExecutor() as pool:\n",
    "        futures = [pool.submit(_download_image,num) for num in image_numbers]\n",
    "        for f in concurrent.futures.as_completed(futures):\n",
    "            total_bytes += f.result()\n",
    "        return total_bytes"
   ]
  },
  {
   "cell_type": "code",
   "execution_count": 28,
   "id": "951cdff9-32b0-4fdd-a4ac-8f866a4fe20c",
   "metadata": {},
   "outputs": [
    {
     "name": "stdout",
     "output_type": "stream",
     "text": [
      "1\n",
      "2\n",
      "3\n",
      "4\n",
      "5\n",
      "0\n",
      "1\n",
      "2\n",
      "3\n",
      "4\n",
      "5\n",
      "1\n",
      "1\n",
      "2\n",
      "3\n",
      "4\n",
      "5\n",
      "2\n",
      "1\n",
      "2\n",
      "3\n",
      "4\n",
      "5\n",
      "1\n",
      "2\n",
      "3\n",
      "4\n",
      "5\n",
      "12\n",
      "\n",
      "3\n",
      "4\n",
      "5\n"
     ]
    },
    {
     "ename": "NameError",
     "evalue": "name 'parallel_time' is not defined",
     "output_type": "error",
     "traceback": [
      "\u001b[1;31m---------------------------------------------------------------------------\u001b[0m",
      "\u001b[1;31mNameError\u001b[0m                                 Traceback (most recent call last)",
      "Cell \u001b[1;32mIn [28], line 17\u001b[0m\n\u001b[0;32m     15\u001b[0m     start\u001b[38;5;241m=\u001b[39m time\u001b[38;5;241m.\u001b[39mperf_counter()\n\u001b[0;32m     16\u001b[0m     par_download_images(IMAGE_NUMBERS)\n\u001b[1;32m---> 17\u001b[0m     parallel_time \u001b[38;5;241m+\u001b[39m\u001b[38;5;241m=\u001b[39m time\u001b[38;5;241m.\u001b[39mperf_counter() \u001b[38;5;241m-\u001b[39m start\n\u001b[0;32m     18\u001b[0m parallel_time \u001b[38;5;241m/\u001b[39m\u001b[38;5;241m=\u001b[39mNUM_EVAL_RUNS\n\u001b[0;32m     20\u001b[0m \u001b[38;5;28;01mif\u001b[39;00m sequential_result \u001b[38;5;241m!=\u001b[39m parallel_result:\n",
      "\u001b[1;31mNameError\u001b[0m: name 'parallel_time' is not defined"
     ]
    }
   ],
   "source": [
    "if __name__=='__main__':\n",
    "    NUM_EVAL_RUNS=3\n",
    "    IMAGE_NUMBERS= list(range(1,6))\n",
    "    sequential_result = seq_download_images(IMAGE_NUMBERS)\n",
    "    sequential_time=0\n",
    "    for i in range (NUM_EVAL_RUNS):\n",
    "        print(i)\n",
    "        start= time.perf_counter()\n",
    "        seq_download_images(IMAGE_NUMBERS)\n",
    "        sequential_time += time.perf_counter() - start\n",
    "    sequential_time /= NUM_EVAL_RUNS\n",
    "    parallel_result= par_download_images(IMAGE_NUMBERS)\n",
    "    parrallel_time=0\n",
    "    for i in range(NUM_EVAL_RUNS):\n",
    "        start= time.perf_counter()\n",
    "        par_download_images(IMAGE_NUMBERS)\n",
    "        parallel_time += time.perf_counter() - start\n",
    "    parallel_time /=NUM_EVAL_RUNS\n",
    "    \n",
    "    if sequential_result != parallel_result:\n",
    "        raise Exception('sequential_result and parallel_result do not match.')\n",
    "    print('Average Sequential Time {:.2f} ms' .format(sequential_time*1000))\n",
    "    print('Average Parallel Time {:.2f} ms' .format(parallel_time * 1000))\n",
    "    print ('Speedup: {:.2f} ms' .format(sequential_time/parallel_time))\n",
    "    print ('Efficiency: {:.2f}%'.format(100*(sequential_time/parallel_time)/mp.cpu_count()))"
   ]
  },
  {
   "cell_type": "code",
   "execution_count": null,
   "id": "6bea2b27-fee0-4baf-8890-b9b20072a08e",
   "metadata": {},
   "outputs": [],
   "source": []
  }
 ],
 "metadata": {
  "kernelspec": {
   "display_name": "Python 3 (ipykernel)",
   "language": "python",
   "name": "python3"
  },
  "language_info": {
   "codemirror_mode": {
    "name": "ipython",
    "version": 3
   },
   "file_extension": ".py",
   "mimetype": "text/x-python",
   "name": "python",
   "nbconvert_exporter": "python",
   "pygments_lexer": "ipython3",
   "version": "3.10.7"
  }
 },
 "nbformat": 4,
 "nbformat_minor": 5
}
