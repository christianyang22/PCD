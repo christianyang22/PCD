{
 "cells": [
  {
   "cell_type": "markdown",
   "id": "e175a7f0-c38b-484c-912c-95fcf29280c4",
   "metadata": {},
   "source": [
    "<!-- PROFILE LINK -->\n",
    "\n",
    "<h1 style = \"text-align:center; font-size: 30px\">PROGRAMACIÓN CONCURRENTE Y DISTRIBUIDA</h1>\n",
    "<a href =\"https://github.com/christianyang22\">\n",
    "<img src=\"https://avatars.githubusercontent.com/u/103989159?s=400&u=52cbb863b4a897985f0548922e6e678f9c98cc1c&v=4\" style=\"float:left;vertical-align:centre\" width=\"110\" height=\"110\" title = \"Christian Jonathan Yang Gonzalez 22133089\">\n",
    "<a href =\"https://github.com/christianyang22?tab=repositories\">\n",
    "<img src=\"https://media-exp1.licdn.com/dms/image/C4D0BAQEu_Aa76fcmPw/company-logo_200_200/0/1630998679429?e=2159024400&v=beta&t=2feC9GG7RWCWizTqsK5HzDWB1TL2DOQuAVwnMf6FFvk\" title = \"M421\" alt=\"UE\" width=\"110\" height=\"110\" style=\"float:right;vertical-align:centre\">"
   ]
  },
  {
   "cell_type": "markdown",
   "id": "ad8603c4-0195-484e-9ca9-be58a51bea25",
   "metadata": {},
   "source": [
    "# Hands on 01"
   ]
  },
  {
   "cell_type": "markdown",
   "id": "e6c6e8a1-06c4-4227-8bf2-a4cd8d325df6",
   "metadata": {},
   "source": [
    "## Env. Setup, important commands."
   ]
  },
  {
   "cell_type": "code",
   "execution_count": 6,
   "id": "fe17ec28-cdd6-406c-8131-276f7780d503",
   "metadata": {},
   "outputs": [
    {
     "name": "stdout",
     "output_type": "stream",
     "text": [
      " El volumen de la unidad C es Windows\n",
      " El n£mero de serie del volumen es: A4AA-E3E2\n",
      "\n",
      " Directorio de C:\\Users\\chris\\Desktop\\Concurrencia 2023\n",
      "\n",
      "\n",
      " Directorio de C:\\Users\\chris\\Desktop\\Concurrencia 2023\n",
      "\n",
      "\n",
      " Directorio de C:\\Users\\chris\\Desktop\\Concurrencia 2023\n",
      "\n"
     ]
    },
    {
     "name": "stderr",
     "output_type": "stream",
     "text": [
      "No se encuentra el archivo\n"
     ]
    }
   ],
   "source": [
    "ls # List Files"
   ]
  },
  {
   "cell_type": "code",
   "execution_count": 7,
   "id": "448b9d2f-e470-47dd-bea4-cb843a2f7f6e",
   "metadata": {},
   "outputs": [
    {
     "data": {
      "text/plain": [
       "'C:\\\\Users\\\\chris\\\\Desktop\\\\Concurrencia 2023'"
      ]
     },
     "execution_count": 7,
     "metadata": {},
     "output_type": "execute_result"
    }
   ],
   "source": [
    "pwd # Where I am"
   ]
  },
  {
   "cell_type": "code",
   "execution_count": 8,
   "id": "471256f3-d002-4bfb-ae58-f4398679c7c5",
   "metadata": {},
   "outputs": [
    {
     "name": "stdout",
     "output_type": "stream",
     "text": [
      "On branch master\n",
      "\n",
      "No commits yet\n",
      "\n",
      "nothing to commit (create/copy files and use \"git add\" to track)\n"
     ]
    }
   ],
   "source": [
    "!git status # info status"
   ]
  },
  {
   "cell_type": "code",
   "execution_count": 9,
   "id": "cc399f93-b4c9-4bb2-ba60-6a79b0cf6f60",
   "metadata": {},
   "outputs": [],
   "source": [
    "import os"
   ]
  },
  {
   "cell_type": "code",
   "execution_count": 12,
   "id": "0b34eef6-f2a5-45fc-a188-24ac78c6d697",
   "metadata": {},
   "outputs": [
    {
     "data": {
      "text/plain": [
       "16"
      ]
     },
     "execution_count": 12,
     "metadata": {},
     "output_type": "execute_result"
    }
   ],
   "source": [
    "os.cpu_count() # Total Cores"
   ]
  },
  {
   "cell_type": "code",
   "execution_count": 13,
   "id": "67adb8c4-210e-4fd2-b7f2-8cd5a5209cd2",
   "metadata": {},
   "outputs": [
    {
     "data": {
      "text/plain": [
       "9016"
      ]
     },
     "execution_count": 13,
     "metadata": {},
     "output_type": "execute_result"
    }
   ],
   "source": [
    "os.getpid() # Get procces Id"
   ]
  },
  {
   "cell_type": "code",
   "execution_count": 14,
   "id": "1f1d88d9-0303-4062-8934-b4b6169e788f",
   "metadata": {},
   "outputs": [],
   "source": [
    "import platform as pl"
   ]
  },
  {
   "cell_type": "code",
   "execution_count": 1,
   "id": "8eac8ee7-5f94-4655-aaf6-89480e7d1d02",
   "metadata": {},
   "outputs": [
    {
     "ename": "NameError",
     "evalue": "name 'pl' is not defined",
     "output_type": "error",
     "traceback": [
      "\u001b[1;31m---------------------------------------------------------------------------\u001b[0m",
      "\u001b[1;31mNameError\u001b[0m                                 Traceback (most recent call last)",
      "Cell \u001b[1;32mIn [1], line 1\u001b[0m\n\u001b[1;32m----> 1\u001b[0m \u001b[43mpl\u001b[49m\u001b[38;5;241m.\u001b[39mpython_version()\n",
      "\u001b[1;31mNameError\u001b[0m: name 'pl' is not defined"
     ]
    }
   ],
   "source": [
    "pl.python_version()"
   ]
  },
  {
   "cell_type": "code",
   "execution_count": null,
   "id": "76009687-ca54-4946-92da-410228a9e842",
   "metadata": {},
   "outputs": [],
   "source": []
  }
 ],
 "metadata": {
  "kernelspec": {
   "display_name": "Python 3 (ipykernel)",
   "language": "python",
   "name": "python3"
  },
  "language_info": {
   "codemirror_mode": {
    "name": "ipython",
    "version": 3
   },
   "file_extension": ".py",
   "mimetype": "text/x-python",
   "name": "python",
   "nbconvert_exporter": "python",
   "pygments_lexer": "ipython3",
   "version": "3.10.7"
  }
 },
 "nbformat": 4,
 "nbformat_minor": 5
}
