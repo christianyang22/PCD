{
 "cells": [
  {
   "cell_type": "markdown",
   "id": "bba9f64d-5a6d-4020-b726-1dde2210d2c8",
   "metadata": {},
   "source": [
    "<!-- PROFILE LINK -->\n",
    "\n",
    "<h1 style = \"text-align:center; font-size: 30px\">PROGRAMACIÓN CONCURRENTE Y DISTRIBUIDA</h1>\n",
    "<a href =\"https://github.com/christianyang22\">\n",
    "<img src=\"https://avatars.githubusercontent.com/u/103989159?s=400&u=52cbb863b4a897985f0548922e6e678f9c98cc1c&v=4\" style=\"float:left;vertical-align:centre\" width=\"110\" height=\"110\" title = \"Christian Jonathan Yang Gonzalez 22133089\">\n",
    "<a href =\"https://github.com/christianyang22?tab=repositories\">\n",
    "<img src=\"https://media-exp1.licdn.com/dms/image/C4D0BAQEu_Aa76fcmPw/company-logo_200_200/0/1630998679429?e=2159024400&v=beta&t=2feC9GG7RWCWizTqsK5HzDWB1TL2DOQuAVwnMf6FFvk\" title = \"M421\" alt=\"UE\" width=\"110\" height=\"110\" style=\"float:right;vertical-align:centre\">"
   ]
  },
  {
   "cell_type": "markdown",
   "id": "139165ca-2809-478f-8725-d3079dc40852",
   "metadata": {},
   "source": [
    "# Prueba 1"
   ]
  },
  {
   "cell_type": "code",
   "execution_count": null,
   "id": "dbcddca7-d221-4515-bd06-b7dcdcbead7c",
   "metadata": {},
   "outputs": [],
   "source": [
    "import threading, os, platform, requests, json"
   ]
  },
  {
   "cell_type": "code",
   "execution_count": null,
   "id": "7cb84b06-f283-4f96-bfa4-8cb43a09c8da",
   "metadata": {},
   "outputs": [],
   "source": [
    "ataque_1 = 100"
   ]
  },
  {
   "cell_type": "code",
   "execution_count": null,
   "id": "2f1cb228-e5a7-4950-bbc1-fa1d20df7352",
   "metadata": {},
   "outputs": [],
   "source": [
    "url_1= \"https://github.com/sukuzhanay\""
   ]
  },
  {
   "cell_type": "code",
   "execution_count": null,
   "id": "0139ce3f-1f49-476c-8722-cb5cf8af7b68",
   "metadata": {},
   "outputs": [],
   "source": [
    "def atacar1():\n",
    "    print(requests.get(url_1))\n",
    "    threading.current_thread()"
   ]
  },
  {
   "cell_type": "code",
   "execution_count": null,
   "id": "be67bc69-1186-4727-88fd-9936cc9727c7",
   "metadata": {},
   "outputs": [],
   "source": [
    "for i in range(ataque_1):\n",
    "    threading.Thread(target = atacar1()).start()"
   ]
  },
  {
   "cell_type": "code",
   "execution_count": 36,
   "id": "68208ee9-883b-499b-937c-5c5e2bc85f0a",
   "metadata": {},
   "outputs": [],
   "source": [
    "ataque_2 = 50"
   ]
  },
  {
   "cell_type": "code",
   "execution_count": 37,
   "id": "f73c62c1-89f7-4be7-8031-69c81d7afcc9",
   "metadata": {},
   "outputs": [],
   "source": [
    "url_2 = \"https://www.linkedin.com/in/sucuzhanay/\""
   ]
  },
  {
   "cell_type": "code",
   "execution_count": 38,
   "id": "d015aa57-9e60-41ad-8559-299f401df301",
   "metadata": {},
   "outputs": [],
   "source": [
    "def atacar2():\n",
    "    print(requests.get(url_2))\n",
    "    threading.current_thread()"
   ]
  },
  {
   "cell_type": "code",
   "execution_count": null,
   "id": "a05788ae-d6ad-4611-864e-8e937d836f41",
   "metadata": {},
   "outputs": [],
   "source": [
    "for i in range(ataque_2):\n",
    "    threading.Thread(target = atacar2()).start()"
   ]
  },
  {
   "cell_type": "code",
   "execution_count": 40,
   "id": "ea30e3c7-55a2-49eb-b7f4-832764abb589",
   "metadata": {},
   "outputs": [],
   "source": [
    "ataque_3 = 20"
   ]
  },
  {
   "cell_type": "code",
   "execution_count": 41,
   "id": "99511452-1bf6-4dca-adcf-79e152eebaba",
   "metadata": {},
   "outputs": [],
   "source": [
    "url_3 = \"https://www.credly.com/users/christian-vladimir-sucuzhanay-arevalo/badges\""
   ]
  },
  {
   "cell_type": "code",
   "execution_count": 45,
   "id": "a7286455-e77e-4c25-8d2e-80ef87cb2cde",
   "metadata": {},
   "outputs": [],
   "source": [
    "def atacar3():\n",
    "    print(requests.get(url_3))\n",
    "    threading.current_thread()"
   ]
  },
  {
   "cell_type": "code",
   "execution_count": null,
   "id": "3df505b0-a103-4c8f-8c84-b3a19aa13b35",
   "metadata": {},
   "outputs": [],
   "source": [
    "for i in range(ataque_3):\n",
    "    threading.Thread(target = atacar3()).start()"
   ]
  },
  {
   "cell_type": "code",
   "execution_count": 48,
   "id": "2868e767-7304-4071-b444-005dcad61c21",
   "metadata": {},
   "outputs": [],
   "source": [
    "ataque_4 = 30"
   ]
  },
  {
   "cell_type": "code",
   "execution_count": 49,
   "id": "10b8545a-2e88-43a2-83d1-31418d374d12",
   "metadata": {},
   "outputs": [],
   "source": [
    "url_4 = \"https://stackoverflow.com/users/6025932/christian-vladimir-sucuzhanay\""
   ]
  },
  {
   "cell_type": "code",
   "execution_count": 50,
   "id": "403f3e3c-d2c6-4a94-87cf-e528fecc039c",
   "metadata": {},
   "outputs": [],
   "source": [
    "def atacar4():\n",
    "    print(requests.get(url_4))\n",
    "    threading.current_thread()"
   ]
  },
  {
   "cell_type": "code",
   "execution_count": null,
   "id": "592cb0c5-a69e-4f2e-a412-d4457f89b843",
   "metadata": {},
   "outputs": [],
   "source": [
    "for i in range(ataque_4):\n",
    "    threading.Thread(target = atacar4()).start()"
   ]
  },
  {
   "cell_type": "code",
   "execution_count": 54,
   "id": "c5ee443d-6897-46a2-af58-b09b44e9ef59",
   "metadata": {},
   "outputs": [],
   "source": [
    "ataque_5 = 20"
   ]
  },
  {
   "cell_type": "code",
   "execution_count": 56,
   "id": "3af7a9a1-6b22-4bdf-ae80-368d194fa1ef",
   "metadata": {},
   "outputs": [],
   "source": [
    "url_5 = \"https://www.cloudskillsboost.google/public_profiles/c094dd66-f266-4f77-a808-a0601b187009\""
   ]
  },
  {
   "cell_type": "code",
   "execution_count": 57,
   "id": "b723ac78-6c89-4fc9-ad69-3e2feb4faf5a",
   "metadata": {},
   "outputs": [],
   "source": [
    "def atacar5():\n",
    "    print(requests.get(url_5))\n",
    "    threading.current_thread()\n"
   ]
  },
  {
   "cell_type": "code",
   "execution_count": 58,
   "id": "53681b2d-0bc1-4a49-8e5b-8520b5915c94",
   "metadata": {},
   "outputs": [
    {
     "name": "stdout",
     "output_type": "stream",
     "text": [
      "<Response [200]>\n",
      "<Response [200]>\n",
      "<Response [200]>\n",
      "<Response [200]>\n",
      "<Response [200]>\n",
      "<Response [200]>\n",
      "<Response [200]>\n",
      "<Response [200]>\n",
      "<Response [200]>\n",
      "<Response [200]>\n",
      "<Response [200]>\n",
      "<Response [200]>\n",
      "<Response [200]>\n",
      "<Response [200]>\n",
      "<Response [200]>\n",
      "<Response [200]>\n",
      "<Response [200]>\n",
      "<Response [200]>\n",
      "<Response [200]>\n",
      "<Response [200]>\n"
     ]
    }
   ],
   "source": [
    "for i in range(ataque_5):\n",
    "    threading.Thread(target = atacar5()).start()"
   ]
  },
  {
   "cell_type": "code",
   "execution_count": null,
   "id": "c0684ff7-cfa0-4208-ac06-61d400d3eaa5",
   "metadata": {},
   "outputs": [],
   "source": []
  }
 ],
 "metadata": {
  "kernelspec": {
   "display_name": "Python 3 (ipykernel)",
   "language": "python",
   "name": "python3"
  },
  "language_info": {
   "codemirror_mode": {
    "name": "ipython",
    "version": 3
   },
   "file_extension": ".py",
   "mimetype": "text/x-python",
   "name": "python",
   "nbconvert_exporter": "python",
   "pygments_lexer": "ipython3",
   "version": "3.10.7"
  }
 },
 "nbformat": 4,
 "nbformat_minor": 5
}
