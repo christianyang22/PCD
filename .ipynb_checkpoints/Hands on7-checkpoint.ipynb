{
 "cells": [
  {
   "cell_type": "markdown",
   "id": "bba9f64d-5a6d-4020-b726-1dde2210d2c8",
   "metadata": {},
   "source": [
    "<!-- PROFILE LINK -->\n",
    "\n",
    "<h1 style = \"text-align:center; font-size: 30px\">PROGRAMACIÓN CONCURRENTE Y DISTRIBUIDA</h1>\n",
    "<a href =\"https://github.com/christianyang22\">\n",
    "<img src=\"https://avatars.githubusercontent.com/u/103989159?s=400&u=52cbb863b4a897985f0548922e6e678f9c98cc1c&v=4\" style=\"float:left;vertical-align:centre\" width=\"110\" height=\"110\" title = \"Christian Jonathan Yang Gonzalez 22133089\">\n",
    "<a href =\"https://github.com/christianyang22?tab=repositories\">\n",
    "<img src=\"https://media-exp1.licdn.com/dms/image/C4D0BAQEu_Aa76fcmPw/company-logo_200_200/0/1630998679429?e=2159024400&v=beta&t=2feC9GG7RWCWizTqsK5HzDWB1TL2DOQuAVwnMf6FFvk\" title = \"M421\" alt=\"UE\" width=\"110\" height=\"110\" style=\"float:right;vertical-align:centre\">"
   ]
  },
  {
   "cell_type": "markdown",
   "id": "139165ca-2809-478f-8725-d3079dc40852",
   "metadata": {},
   "source": [
    "# Actividad Individual AI1"
   ]
  },
  {
   "cell_type": "markdown",
   "id": "4cda5c79-2d18-4b2e-825b-4cbbc65e94c7",
   "metadata": {},
   "source": [
    "## Crear archivo txt"
   ]
  },
  {
   "cell_type": "markdown",
   "id": "156075e8-2571-4126-a59a-09109c9bc6d6",
   "metadata": {
    "tags": []
   },
   "source": [
    "### rawx\n",
    "1. r = read\n",
    "2. a = append\n",
    "3. w = write\n",
    "4. x = create"
   ]
  },
  {
   "cell_type": "code",
   "execution_count": 38,
   "id": "4985caca-f23c-4a13-b07c-062170253d8f",
   "metadata": {},
   "outputs": [],
   "source": [
    "with open(\"22118615.txt\",\"a\") as f:\n",
    "    f.write(nick + \": \" + msg + \"\\n\")"
   ]
  },
  {
   "cell_type": "code",
   "execution_count": 39,
   "id": "3463d393-f194-4dda-992c-9b94ce000e96",
   "metadata": {},
   "outputs": [
    {
     "name": "stdout",
     "output_type": "stream",
     "text": [
      " El volumen de la unidad C es Windows\n",
      " El n£mero de serie del volumen es: A4AA-E3E2\n",
      "\n",
      " Directorio de C:\\Users\\chris\\Desktop\\Concurrencia 2023\n",
      "\n",
      "16/11/2022  18:12               419 22118615.txt\n",
      "               1 archivos            419 bytes\n",
      "               0 dirs  421.026.258.944 bytes libres\n"
     ]
    }
   ],
   "source": [
    "ls 22118615.txt"
   ]
  },
  {
   "cell_type": "code",
   "execution_count": 35,
   "id": "f14a2364-902b-4f7a-b228-8fa597f3e434",
   "metadata": {},
   "outputs": [
    {
     "name": "stdin",
     "output_type": "stream",
     "text": [
      "Ingresa tu nick name:  TlemendoPandaCalibeño\n"
     ]
    }
   ],
   "source": [
    "nick =input(\"Ingresa tu nick name: \")"
   ]
  },
  {
   "cell_type": "code",
   "execution_count": 36,
   "id": "a20101dd-2bf3-4307-aa0f-2d1e9a277a41",
   "metadata": {},
   "outputs": [
    {
     "data": {
      "text/plain": [
       "'TlemendoPandaCalibeño'"
      ]
     },
     "execution_count": 36,
     "metadata": {},
     "output_type": "execute_result"
    }
   ],
   "source": [
    "nick"
   ]
  },
  {
   "cell_type": "markdown",
   "id": "e88dc845-7bbd-495a-89aa-05175c6cbf09",
   "metadata": {},
   "source": [
    "### Context manager, analogia para abrir la puerta\n",
    "\n",
    "with (Mantiene la coherencia de los datos) hay que darle un alias al contexto"
   ]
  },
  {
   "cell_type": "code",
   "execution_count": 37,
   "id": "e50b65f7-16ea-4594-9b65-63178a0cdf62",
   "metadata": {},
   "outputs": [
    {
     "name": "stdin",
     "output_type": "stream",
     "text": [
      "Escribe un mensaje: Tupu\n"
     ]
    }
   ],
   "source": [
    "msg = input(\"Escribe un mensaje:\")"
   ]
  },
  {
   "cell_type": "code",
   "execution_count": null,
   "id": "d31f7edf-7102-4494-bcd5-41b36e8327b4",
   "metadata": {},
   "outputs": [],
   "source": []
  }
 ],
 "metadata": {
  "kernelspec": {
   "display_name": "Python 3 (ipykernel)",
   "language": "python",
   "name": "python3"
  },
  "language_info": {
   "codemirror_mode": {
    "name": "ipython",
    "version": 3
   },
   "file_extension": ".py",
   "mimetype": "text/x-python",
   "name": "python",
   "nbconvert_exporter": "python",
   "pygments_lexer": "ipython3",
   "version": "3.10.7"
  }
 },
 "nbformat": 4,
 "nbformat_minor": 5
}
